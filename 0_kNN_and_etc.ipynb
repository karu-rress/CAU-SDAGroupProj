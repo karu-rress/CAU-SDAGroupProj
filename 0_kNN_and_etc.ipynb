{
 "cells": [
  {
   "cell_type": "code",
   "execution_count": 1,
   "metadata": {},
   "outputs": [],
   "source": [
    "import numpy as np\n",
    "import pandas as pd\n",
    "from sklearn.model_selection import train_test_split, GridSearchCV\n",
    "from sklearn.preprocessing import StandardScaler\n",
    "from imblearn.over_sampling import SMOTE\n",
    "from sklearn.ensemble import RandomForestClassifier\n",
    "from sklearn.linear_model import LogisticRegression\n",
    "from sklearn.tree import DecisionTreeClassifier  # Import DecisionTreeClassifier\n",
    "from sklearn.metrics import classification_report, confusion_matrix\n",
    "from sklearn.decomposition import PCA\n",
    "from sklearn.pipeline import Pipeline\n",
    "\n",
    "from sklearn.datasets import load_iris\n",
    "from sklearn.model_selection import train_test_split\n",
    "from sklearn.neighbors import KNeighborsClassifier\n",
    "import numpy as np\n",
    "import pandas as pd\n",
    "import mglearn\n",
    "import matplotlib.pyplot as plt"
   ]
  },
  {
   "cell_type": "code",
   "execution_count": 2,
   "metadata": {},
   "outputs": [],
   "source": [
    "df_origin = pd.read_csv('Android_Malware.csv', low_memory=False)\n",
    "df = df_origin.copy() # Just in case ;)"
   ]
  },
  {
   "cell_type": "code",
   "execution_count": 3,
   "metadata": {},
   "outputs": [],
   "source": [
    "df.columns = df.columns.str.strip()\n",
    "# Define the pairs of columns for differences\n",
    "packet_pairs = [('Total Fwd Packets', 'Total Backward Packets'),\n",
    "                ('Total Length of Fwd Packets', 'Total Length of Bwd Packets'),\n",
    "                ('Fwd IAT Total', 'Bwd IAT Total'),\n",
    "                ('Fwd PSH Flags', 'Bwd PSH Flags'),\n",
    "                ('Fwd URG Flags', 'Bwd URG Flags'),\n",
    "                ('Fwd Header Length', 'Bwd Header Length'),\n",
    "                ('Fwd Packets/s', 'Bwd Packets/s'),\n",
    "                ('Avg Fwd Segment Size', 'Avg Bwd Segment Size'),\n",
    "                ('Fwd Avg Bytes/Bulk', 'Bwd Avg Bytes/Bulk'),\n",
    "                ('Fwd Avg Packets/Bulk', 'Bwd Avg Packets/Bulk'),\n",
    "                ('Fwd Avg Bulk Rate', 'Bwd Avg Bulk Rate'),\n",
    "                ('Subflow Fwd Packets', 'Subflow Bwd Packets'),\n",
    "                ('Subflow Fwd Bytes', 'Subflow Bwd Bytes'),\n",
    "                ('Init_Win_bytes_forward', 'Init_Win_bytes_backward')]\n",
    "\n",
    "# Convert columns to numeric before calculating differences\n",
    "df = df.apply(pd.to_numeric, errors='coerce')\n",
    "\n",
    "# Calculate differences for each pair and create separate columns\n",
    "for pair in packet_pairs:\n",
    "    col_name_diff = f'{pair[0]} - {pair[1]}'\n",
    "    df[col_name_diff] = df[pair[0]] - df[pair[1]]"
   ]
  },
  {
   "cell_type": "code",
   "execution_count": 4,
   "metadata": {},
   "outputs": [],
   "source": [
    "# List of all columns to drop\n",
    "columns_to_drop = [\n",
    "    'Unnamed: 0', 'Flow ID', 'Source IP', 'Source Port', 'Destination IP', 'Destination Port',\n",
    "    'Protocol', 'Timestamp', 'Total Fwd Packets', 'Total Backward Packets',\n",
    "    'Total Length of Fwd Packets', 'Total Length of Bwd Packets',\n",
    "    'Fwd Packet Length Max', 'Fwd Packet Length Min', 'Fwd Packet Length Std',\n",
    "    'Bwd Packet Length Max', 'Bwd Packet Length Min', 'Bwd Packet Length Std',\n",
    "    'Flow IAT Std', 'Flow IAT Max', 'Flow IAT Min',\n",
    "    'Fwd IAT Total', 'Fwd IAT Std', 'Fwd IAT Max', 'Fwd IAT Min',\n",
    "    'Bwd IAT Total', 'Bwd IAT Std', 'Bwd IAT Max', 'Bwd IAT Min',\n",
    "    'Fwd PSH Flags', 'Bwd PSH Flags', 'Fwd URG Flags', 'Bwd URG Flags',\n",
    "    'Fwd Header Length', 'Bwd Header Length', 'Fwd Packets/s', 'Bwd Packets/s',\n",
    "    'Min Packet Length', 'Max Packet Length', 'Packet Length Std', 'Packet Length Variance',\n",
    "    'ECE Flag Count', 'Avg Fwd Segment Size', 'Avg Bwd Segment Size',\n",
    "    'Fwd Header Length.1', 'Fwd Avg Bytes/Bulk', 'Fwd Avg Packets/Bulk', 'Fwd Avg Bulk Rate',\n",
    "    'Bwd Avg Bytes/Bulk', 'Bwd Avg Packets/Bulk', 'Bwd Avg Bulk Rate',\n",
    "    'Subflow Fwd Packets', 'Subflow Fwd Bytes', 'Subflow Bwd Packets', 'Subflow Bwd Bytes',\n",
    "    'Init_Win_bytes_forward', 'Init_Win_bytes_backward',\n",
    "    'Active Std', 'Active Max', 'Active Min', 'Idle Std', 'Idle Max', 'Idle Min'\n",
    "]\n",
    "\n",
    "# Drop the specified columns\n",
    "df = df.drop(columns=columns_to_drop, errors='ignore')"
   ]
  },
  {
   "cell_type": "code",
   "execution_count": 5,
   "metadata": {},
   "outputs": [],
   "source": [
    "df['Label'] = df_origin['Label']\n",
    "df = df.dropna()\n",
    "features = df.drop(columns='Label')\n",
    "target = df['Label']\n",
    "X_train, X_test, y_train, y_test = train_test_split(features, target, random_state=0)"
   ]
  },
  {
   "cell_type": "markdown",
   "metadata": {},
   "source": [
    "# kNN"
   ]
  },
  {
   "cell_type": "code",
   "execution_count": 12,
   "metadata": {},
   "outputs": [
    {
     "name": "stdout",
     "output_type": "stream",
     "text": [
      "Best kNN Model:\n",
      "Training set accuracy: 0.527\n",
      "Test set accuracy: 0.456\n",
      "Best parameters:  {'n_neighbors': 17}\n"
     ]
    }
   ],
   "source": [
    "from sklearn.model_selection import GridSearchCV\n",
    "\n",
    "param_grid = {\n",
    "    'n_neighbors': [3, 5, 9, 13, 17, 25, 37]\n",
    "}\n",
    "\n",
    "grid_search = GridSearchCV(KNeighborsClassifier(), param_grid, cv=5, scoring='accuracy', n_jobs=-1)\n",
    "grid_search.fit(X_train, y_train)\n",
    "\n",
    "best_clf = grid_search.best_estimator_\n",
    "\n",
    "print(\"Best kNN Model:\")\n",
    "print(\"Training set accuracy: {:.3f}\".format(best_clf.score(X_train, y_train)))\n",
    "print(\"Test set accuracy: {:.3f}\".format(best_clf.score(X_test, y_test)))\n",
    "print(\"Best parameters: \", grid_search.best_params_)"
   ]
  },
  {
   "cell_type": "markdown",
   "metadata": {},
   "source": [
    "what a poor score."
   ]
  },
  {
   "cell_type": "markdown",
   "metadata": {},
   "source": [
    "SVM"
   ]
  },
  {
   "cell_type": "code",
   "execution_count": 6,
   "metadata": {},
   "outputs": [],
   "source": [
    "from sklearn.preprocessing import StandardScaler\n",
    "from sklearn.svm import SVC\n",
    "\n",
    "scaler = StandardScaler()\n",
    "X_train_scaled = scaler.fit_transform(X_train)\n",
    "X_test_scaled = scaler.transform(X_test)\n",
    "\n",
    "\n",
    "svc = SVC(kernel='linear')\n",
    "param_grid = {\n",
    "    'kernel' : ['linear', 'rbf'],\n",
    "    'C': [0.001, 0.01, 0.1, 1.0, 10, 100]\n",
    "}\n",
    "\n",
    "grid_search = GridSearchCV(svc, param_grid, cv=5, scoring='accuracy', n_jobs=-1)\n",
    "grid_search.fit(X_train_scaled, y_train)\n",
    "\n",
    "best_svm = grid_search.best_estimator_\n",
    "\n",
    "print(\"Best kNN Model:\")\n",
    "print(\"Training set accuracy: {:.3f}\".format(best_svm.score(X_train_scaled, y_train)))\n",
    "print(\"Test set accuracy: {:.3f}\".format(best_svm.score(X_test_scaled, y_test)))\n",
    "print(\"Best parameters: \", grid_search.best_params_)"
   ]
  },
  {
   "cell_type": "markdown",
   "metadata": {},
   "source": [
    "why does it take more than 9 hours?"
   ]
  },
  {
   "cell_type": "code",
   "execution_count": null,
   "metadata": {},
   "outputs": [],
   "source": []
  }
 ],
 "metadata": {
  "kernelspec": {
   "display_name": "base",
   "language": "python",
   "name": "python3"
  },
  "language_info": {
   "codemirror_mode": {
    "name": "ipython",
    "version": 3
   },
   "file_extension": ".py",
   "mimetype": "text/x-python",
   "name": "python",
   "nbconvert_exporter": "python",
   "pygments_lexer": "ipython3",
   "version": "3.10.9"
  }
 },
 "nbformat": 4,
 "nbformat_minor": 2
}
