{
  "cells": [
    {
      "cell_type": "markdown",
      "metadata": {
        "id": "view-in-github",
        "colab_type": "text"
      },
      "source": [
        "<a href=\"https://colab.research.google.com/github/karu-rress/SDAGroupProj/blob/main/03%20-%20RandomForestClassifier.ipynb\" target=\"_parent\"><img src=\"https://colab.research.google.com/assets/colab-badge.svg\" alt=\"Open In Colab\"/></a>"
      ]
    },
    {
      "cell_type": "code",
      "execution_count": null,
      "metadata": {
        "colab": {
          "base_uri": "https://localhost:8080/"
        },
        "id": "co_j5lkps2Q3",
        "outputId": "435db48e-aa33-46d0-f927-8c20661bc341"
      },
      "outputs": [
        {
          "output_type": "stream",
          "name": "stdout",
          "text": [
            "Requirement already satisfied: shap in /usr/local/lib/python3.10/dist-packages (0.43.0)\n",
            "Requirement already satisfied: numpy in /usr/local/lib/python3.10/dist-packages (from shap) (1.23.5)\n",
            "Requirement already satisfied: scipy in /usr/local/lib/python3.10/dist-packages (from shap) (1.11.4)\n",
            "Requirement already satisfied: scikit-learn in /usr/local/lib/python3.10/dist-packages (from shap) (1.2.2)\n",
            "Requirement already satisfied: pandas in /usr/local/lib/python3.10/dist-packages (from shap) (1.5.3)\n",
            "Requirement already satisfied: tqdm>=4.27.0 in /usr/local/lib/python3.10/dist-packages (from shap) (4.66.1)\n",
            "Requirement already satisfied: packaging>20.9 in /usr/local/lib/python3.10/dist-packages (from shap) (23.2)\n",
            "Requirement already satisfied: slicer==0.0.7 in /usr/local/lib/python3.10/dist-packages (from shap) (0.0.7)\n",
            "Requirement already satisfied: numba in /usr/local/lib/python3.10/dist-packages (from shap) (0.58.1)\n",
            "Requirement already satisfied: cloudpickle in /usr/local/lib/python3.10/dist-packages (from shap) (2.2.1)\n",
            "Requirement already satisfied: llvmlite<0.42,>=0.41.0dev0 in /usr/local/lib/python3.10/dist-packages (from numba->shap) (0.41.1)\n",
            "Requirement already satisfied: python-dateutil>=2.8.1 in /usr/local/lib/python3.10/dist-packages (from pandas->shap) (2.8.2)\n",
            "Requirement already satisfied: pytz>=2020.1 in /usr/local/lib/python3.10/dist-packages (from pandas->shap) (2023.3.post1)\n",
            "Requirement already satisfied: joblib>=1.1.1 in /usr/local/lib/python3.10/dist-packages (from scikit-learn->shap) (1.3.2)\n",
            "Requirement already satisfied: threadpoolctl>=2.0.0 in /usr/local/lib/python3.10/dist-packages (from scikit-learn->shap) (3.2.0)\n",
            "Requirement already satisfied: six>=1.5 in /usr/local/lib/python3.10/dist-packages (from python-dateutil>=2.8.1->pandas->shap) (1.16.0)\n"
          ]
        }
      ],
      "source": [
        "!pip install shap"
      ]
    },
    {
      "cell_type": "code",
      "execution_count": null,
      "metadata": {
        "id": "fle5rBM1oD3F"
      },
      "outputs": [],
      "source": [
        "import numpy as np\n",
        "import pandas as pd\n",
        "from sklearn.model_selection import train_test_split, GridSearchCV\n",
        "from sklearn.preprocessing import StandardScaler\n",
        "from imblearn.over_sampling import SMOTE\n",
        "from sklearn.ensemble import RandomForestClassifier\n",
        "from sklearn.linear_model import LogisticRegression\n",
        "from sklearn.tree import DecisionTreeClassifier  # Import DecisionTreeClassifier\n",
        "from sklearn.metrics import classification_report, confusion_matrix\n",
        "from sklearn.decomposition import PCA\n",
        "import shap\n",
        "from sklearn.pipeline import Pipeline"
      ]
    },
    {
      "cell_type": "code",
      "source": [
        "df_origin = pd.read_csv('/content/drive/MyDrive/Android_Malware.csv', low_memory=False)"
      ],
      "metadata": {
        "id": "MIOLE9Gut0sF"
      },
      "execution_count": 85,
      "outputs": []
    },
    {
      "cell_type": "code",
      "execution_count": 98,
      "metadata": {
        "id": "FdcDExFiqy6P"
      },
      "outputs": [],
      "source": [
        "df = df_origin.copy()"
      ]
    },
    {
      "cell_type": "code",
      "source": [
        "# Remove leading whitespaces from column names\n",
        "df.columns = df.columns.str.strip()"
      ],
      "metadata": {
        "id": "mzClGPgzxzLP"
      },
      "execution_count": 99,
      "outputs": []
    },
    {
      "cell_type": "code",
      "execution_count": 100,
      "metadata": {
        "id": "noeVMmpZq_kp"
      },
      "outputs": [],
      "source": [
        "# Define the pairs of columns for differences\n",
        "packet_pairs = [('Total Fwd Packets', 'Total Backward Packets'),\n",
        "                ('Total Length of Fwd Packets', 'Total Length of Bwd Packets'),\n",
        "                ('Fwd IAT Total', 'Bwd IAT Total'),\n",
        "                ('Fwd PSH Flags', 'Bwd PSH Flags'),\n",
        "                ('Fwd URG Flags', 'Bwd URG Flags'),\n",
        "                ('Fwd Header Length', 'Bwd Header Length'),\n",
        "                ('Fwd Packets/s', 'Bwd Packets/s'),\n",
        "                ('Avg Fwd Segment Size', 'Avg Bwd Segment Size'),\n",
        "                ('Fwd Avg Bytes/Bulk', 'Bwd Avg Bytes/Bulk'),\n",
        "                ('Fwd Avg Packets/Bulk', 'Bwd Avg Packets/Bulk'),\n",
        "                ('Fwd Avg Bulk Rate', 'Bwd Avg Bulk Rate'),\n",
        "                ('Subflow Fwd Packets', 'Subflow Bwd Packets'),\n",
        "                ('Subflow Fwd Bytes', 'Subflow Bwd Bytes'),\n",
        "                ('Init_Win_bytes_forward', 'Init_Win_bytes_backward')]\n",
        "\n",
        "# Convert columns to numeric before calculating differences\n",
        "df = df.apply(pd.to_numeric, errors='coerce')\n",
        "\n",
        "# Calculate differences for each pair and create separate columns\n",
        "for pair in packet_pairs:\n",
        "    col_name_diff = f'{pair[0]} - {pair[1]}'\n",
        "    df[col_name_diff] = df[pair[0]] - df[pair[1]]"
      ]
    },
    {
      "cell_type": "code",
      "execution_count": 101,
      "metadata": {
        "id": "21QxfEBurFc9"
      },
      "outputs": [],
      "source": [
        "# List of all columns to drop\n",
        "columns_to_drop = [\n",
        "    'Unnamed: 0', 'Flow ID', 'Source IP', 'Source Port', 'Destination IP', 'Destination Port',\n",
        "    'Protocol', 'Timestamp', 'Total Fwd Packets', 'Total Backward Packets',\n",
        "    'Total Length of Fwd Packets', 'Total Length of Bwd Packets',\n",
        "    'Fwd Packet Length Max', 'Fwd Packet Length Min', 'Fwd Packet Length Std',\n",
        "    'Bwd Packet Length Max', 'Bwd Packet Length Min', 'Bwd Packet Length Std',\n",
        "    'Flow IAT Std', 'Flow IAT Max', 'Flow IAT Min',\n",
        "    'Fwd IAT Total', 'Fwd IAT Std', 'Fwd IAT Max', 'Fwd IAT Min',\n",
        "    'Bwd IAT Total', 'Bwd IAT Std', 'Bwd IAT Max', 'Bwd IAT Min',\n",
        "    'Fwd PSH Flags', 'Bwd PSH Flags', 'Fwd URG Flags', 'Bwd URG Flags',\n",
        "    'Fwd Header Length', 'Bwd Header Length', 'Fwd Packets/s', 'Bwd Packets/s',\n",
        "    'Min Packet Length', 'Max Packet Length', 'Packet Length Std', 'Packet Length Variance',\n",
        "    'ECE Flag Count', 'Avg Fwd Segment Size', 'Avg Bwd Segment Size',\n",
        "    'Fwd Header Length.1', 'Fwd Avg Bytes/Bulk', 'Fwd Avg Packets/Bulk', 'Fwd Avg Bulk Rate',\n",
        "    'Bwd Avg Bytes/Bulk', 'Bwd Avg Packets/Bulk', 'Bwd Avg Bulk Rate',\n",
        "    'Subflow Fwd Packets', 'Subflow Fwd Bytes', 'Subflow Bwd Packets', 'Subflow Bwd Bytes',\n",
        "    'Init_Win_bytes_forward', 'Init_Win_bytes_backward',\n",
        "    'Active Std', 'Active Max', 'Active Min', 'Idle Std', 'Idle Max', 'Idle Min'\n",
        "]\n",
        "# Drop the specified columns\n",
        "df = df.drop(columns=columns_to_drop, errors='ignore')"
      ]
    },
    {
      "cell_type": "code",
      "execution_count": 102,
      "metadata": {
        "id": "0KKfTjOCrNuz"
      },
      "outputs": [],
      "source": [
        "df['Label'] = df_origin['Label']"
      ]
    },
    {
      "cell_type": "code",
      "source": [
        "df = df.dropna()"
      ],
      "metadata": {
        "id": "fQy9OMi5x195"
      },
      "execution_count": 103,
      "outputs": []
    },
    {
      "cell_type": "code",
      "execution_count": 104,
      "metadata": {
        "id": "AAc_f2y6H7sq"
      },
      "outputs": [],
      "source": [
        "def type_replace(value):\n",
        "    new_value = None  # Initialize new_value\n",
        "    if value == 'Android_Adware':\n",
        "        new_value = 1\n",
        "    elif value == 'Android_Scareware':\n",
        "        new_value = 2\n",
        "    elif value == 'Android_SMS_Malware':\n",
        "        new_value = 3\n",
        "    elif value == 'Benign':\n",
        "      new_value = 4\n",
        "    return new_value\n",
        "\n",
        "df['Label'] = df['Label'].apply(type_replace)\n"
      ]
    },
    {
      "cell_type": "code",
      "source": [
        "features = df.drop('Label', axis=1)  # Features\n",
        "target = df['Label']"
      ],
      "metadata": {
        "id": "aL-zBtG2-_t4"
      },
      "execution_count": 105,
      "outputs": []
    },
    {
      "cell_type": "code",
      "execution_count": 106,
      "metadata": {
        "id": "uVLlfqX9sUzT"
      },
      "outputs": [],
      "source": [
        "X_train, X_test, y_train, y_test = train_test_split(features, target, random_state=0)\n"
      ]
    },
    {
      "cell_type": "markdown",
      "metadata": {
        "id": "zaXgI8rSH3SD"
      },
      "source": [
        "### Lasso Regression to determine features"
      ]
    },
    {
      "cell_type": "code",
      "source": [
        "import pandas as pd\n",
        "from sklearn.model_selection import train_test_split\n",
        "from sklearn.preprocessing import StandardScaler\n",
        "from sklearn.linear_model import Lasso\n",
        "\n",
        "# Assume X_train, X_test, y_train are already defined\n",
        "\n",
        "# # Standardize the features\n",
        "# scaler = StandardScaler()\n",
        "# X_train_scaled = scaler.fit_transform(X_train)\n",
        "# X_test_scaled = scaler.transform(X_test)\n",
        "\n",
        "# Fit Lasso model\n",
        "alpha = 0.9\n",
        "lasso_model = Lasso(alpha=alpha)\n",
        "lasso_model.fit(X_train, y_train)\n",
        "\n",
        "# Ensure X_train and X_test have the same columns\n",
        "common_columns = X_train.columns.intersection(X_test.columns)\n",
        "X_train = X_train[common_columns]\n",
        "X_test = X_test[common_columns]\n",
        "\n",
        "# Get feature coefficients\n",
        "coefficients = pd.Series(lasso_model.coef_, index=common_columns)\n"
      ],
      "metadata": {
        "id": "EELlzPE9w0Da"
      },
      "execution_count": 109,
      "outputs": []
    },
    {
      "cell_type": "code",
      "source": [
        "# Select only non-zero coefficients\n",
        "non_zero_coefficients = coefficients[coefficients != 0]\n",
        "\n",
        "# Extract features based on non-zero coefficients\n",
        "selected_features = non_zero_coefficients.index\n",
        "\n",
        "# Use selected features for training and testing sets\n",
        "X_train_selected = X_train[selected_features]\n",
        "X_test_selected = X_test[selected_features]\n",
        "\n",
        "# Train RandomForest model using the selected features\n",
        "random_forest_model = RandomForestClassifier(n_estimators=100, random_state=42)\n",
        "random_forest_model.fit(X_train_selected, y_train)\n",
        "\n",
        "# Evaluate the model\n",
        "accuracy = random_forest_model.score(X_test_selected, y_test)\n",
        "print(f\"RandomForest Model Accuracy: {accuracy}\")"
      ],
      "metadata": {
        "colab": {
          "base_uri": "https://localhost:8080/"
        },
        "id": "OdPvWYUCxEt8",
        "outputId": "bee02ecc-deb9-425e-c387-f185047e5a90"
      },
      "execution_count": 110,
      "outputs": [
        {
          "output_type": "stream",
          "name": "stdout",
          "text": [
            "RandomForest Model Accuracy: 0.504223514458929\n"
          ]
        }
      ]
    },
    {
      "cell_type": "code",
      "source": [
        "selected_features"
      ],
      "metadata": {
        "colab": {
          "base_uri": "https://localhost:8080/"
        },
        "id": "H4cIZyi-HaQ_",
        "outputId": "d50990ae-69b6-4c10-d7c4-1f453c50804d"
      },
      "execution_count": 111,
      "outputs": [
        {
          "output_type": "execute_result",
          "data": {
            "text/plain": [
              "Index(['Flow Duration', 'Bwd Packet Length Mean', 'Flow Bytes/s',\n",
              "       'Flow Packets/s', 'Flow IAT Mean', 'Fwd IAT Mean', 'Bwd IAT Mean',\n",
              "       'Packet Length Mean', 'min_seg_size_forward', 'Active Mean',\n",
              "       'Idle Mean',\n",
              "       'Total Length of Fwd Packets - Total Length of Bwd Packets',\n",
              "       'Fwd IAT Total - Bwd IAT Total',\n",
              "       'Fwd Header Length - Bwd Header Length',\n",
              "       'Fwd Packets/s - Bwd Packets/s',\n",
              "       'Init_Win_bytes_forward - Init_Win_bytes_backward'],\n",
              "      dtype='object')"
            ]
          },
          "metadata": {},
          "execution_count": 111
        }
      ]
    },
    {
      "cell_type": "markdown",
      "metadata": {
        "id": "rWKrP2D1sehr"
      },
      "source": [
        "## Random Forest (Grid Search Worked!!)\n",
        "\n",
        "The model may have only been dumbed down to only predict adware and scareware?\n",
        "Balancing techniques havent worked thus far with these features."
      ]
    },
    {
      "cell_type": "code",
      "execution_count": null,
      "metadata": {
        "id": "xgkldcaGsM_B"
      },
      "outputs": [],
      "source": [
        "features = df[['Packet Length Mean', 'Bwd Packet Length Mean', 'Init_Win_bytes_forward - Init_Win_bytes_backward', 'Fwd Packets/s - Bwd Packets/s',\n",
        "               'Flow Packets/s', 'Total Length of Fwd Packets - Total Length of Bwd Packets', 'Active Mean',\n",
        "               'Flow Bytes/s', 'Fwd IAT Mean', 'Bwd IAT Mean', 'Flow IAT Mean', 'Flow Duration', 'min_seg_size_forward',\n",
        "               'Idle Mean', 'Fwd IAT Total - Bwd IAT Total', 'Fwd Header Length - Bwd Header Length']]\n",
        "target = df['Label']"
      ]
    },
    {
      "cell_type": "code",
      "source": [
        "X_train, X_test, y_train, y_test = train_test_split(features, target, random_state=0)"
      ],
      "metadata": {
        "id": "5CBVzjpGuXN0"
      },
      "execution_count": null,
      "outputs": []
    },
    {
      "cell_type": "code",
      "execution_count": null,
      "metadata": {
        "id": "pyiXX_rXuaif"
      },
      "outputs": [],
      "source": [
        "from sklearn.model_selection import GridSearchCV\n",
        "\n",
        "param_grid = {\n",
        "    'n_estimators': [10, 20, 50],\n",
        "    'max_depth': [None, 10, 20],\n",
        "    'min_samples_split': [2, 5],\n",
        "    'min_samples_leaf': [1, 2]\n",
        "}\n",
        "\n",
        "grid_search = GridSearchCV(RandomForestClassifier(random_state=0), param_grid, cv=5, scoring='accuracy')\n",
        "grid_search.fit(X_train_selected, y_train)\n",
        "\n",
        "best_forest = grid_search.best_estimator_\n"
      ]
    },
    {
      "cell_type": "code",
      "source": [
        "# Print the results\n",
        "print(\"Grid Search Results:\")\n",
        "print(f\"Best Hyperparameters: {grid_search.best_params_}\")\n",
        "print(f\"Best Cross-validated Accuracy: {grid_search.best_score_:.4f}\")\n",
        "\n",
        "# Print the performance of the best model on the test set\n",
        "test_accuracy = grid_search.score(X_test_selected, y_test)\n",
        "print(f\"Test Set Accuracy with Best Model: {test_accuracy:.4f}\")"
      ],
      "metadata": {
        "colab": {
          "base_uri": "https://localhost:8080/"
        },
        "id": "YdZRHmO6zlUT",
        "outputId": "5b8579b9-559e-4c7f-cc26-88ac9f8a853e"
      },
      "execution_count": null,
      "outputs": [
        {
          "output_type": "stream",
          "name": "stdout",
          "text": [
            "Grid Search Results:\n",
            "Best Hyperparameters: {'max_depth': 20, 'min_samples_leaf': 1, 'min_samples_split': 5, 'n_estimators': 50}\n",
            "Best Cross-validated Accuracy: 0.5131\n",
            "Test Set Accuracy with Best Model: 0.5192\n"
          ]
        }
      ]
    },
    {
      "cell_type": "code",
      "execution_count": null,
      "metadata": {
        "colab": {
          "base_uri": "https://localhost:8080/"
        },
        "id": "jtpvWQU5sd_M",
        "outputId": "aec0442a-5fba-48ac-9210-f91f4b814c59"
      },
      "outputs": [
        {
          "output_type": "stream",
          "name": "stdout",
          "text": [
            "Training set accuracy: 0.865\n",
            "Test set accuracy: 0.772\n"
          ]
        }
      ],
      "source": [
        "from sklearn.ensemble import RandomForestClassifier\n",
        "forest = RandomForestClassifier(max_depth=20, min_samples_leaf=1, min_samples_split=2, n_estimators=50, random_state=0)\n",
        "forest.fit(X_train, y_train)\n",
        "\n",
        "print(\"Training set accuracy: {:.3f}\".format(forest.score(X_train, y_train)))\n",
        "print(\"Test set accuracy: {:.3f}\".format(forest.score(X_test, y_test)))"
      ]
    },
    {
      "cell_type": "code",
      "source": [
        "from sklearn.metrics import classification_report\n",
        "\n",
        "# Predict on the test set\n",
        "y_pred_forest = forest.predict(X_test)\n",
        "\n",
        "print(classification_report(y_test, y_pred_forest))"
      ],
      "metadata": {
        "colab": {
          "base_uri": "https://localhost:8080/"
        },
        "id": "QBygxAaHYdoD",
        "outputId": "089efc36-43fd-4171-bb18-46881e8c38ac"
      },
      "execution_count": null,
      "outputs": [
        {
          "output_type": "stream",
          "name": "stdout",
          "text": [
            "                   precision    recall  f1-score   support\n",
            "\n",
            "   Android_Adware       0.78      0.95      0.86     36859\n",
            "Android_Scareware       0.66      0.25      0.36     12923\n",
            "\n",
            "         accuracy                           0.77     49782\n",
            "        macro avg       0.72      0.60      0.61     49782\n",
            "     weighted avg       0.75      0.77      0.73     49782\n",
            "\n"
          ]
        }
      ]
    },
    {
      "cell_type": "code",
      "source": [
        "from sklearn.metrics import confusion_matrix\n",
        "import seaborn as sns\n",
        "import matplotlib.pyplot as plt\n",
        "\n",
        "# Assuming forest is your RandomForestClassifier\n",
        "y_pred = forest.predict(X_test)\n",
        "\n",
        "# Get the confusion matrix\n",
        "cm = confusion_matrix(y_test, y_pred)\n",
        "\n",
        "# Plot the confusion matrix using seaborn\n",
        "plt.figure(figsize=(8, 6))\n",
        "sns.heatmap(cm, annot=True, fmt='d', cmap='Blues', xticklabels=['Android_Adware', 'Android_Scareware', 'Android_SMS_Malware', 'Benign'], yticklabels=['Android_Adware', 'Android_Scareware', 'Android_SMS_Malware', 'Benign'])\n",
        "plt.title('Confusion Matrix')\n",
        "plt.xlabel('Predicted Labels')\n",
        "plt.ylabel('True Labels')\n",
        "plt.show()\n"
      ],
      "metadata": {
        "colab": {
          "base_uri": "https://localhost:8080/",
          "height": 706
        },
        "id": "n82F1rRcYsga",
        "outputId": "5257234b-8add-4a51-e0df-daaacb4a3127"
      },
      "execution_count": null,
      "outputs": [
        {
          "output_type": "display_data",
          "data": {
            "text/plain": [
              "<Figure size 800x600 with 2 Axes>"
            ],
            "image/png": "[encoded data removed]"
          },
          "metadata": {}
        }
      ]
    },
    {
      "cell_type": "markdown",
      "source": [
        "## Solve data imbalance (No luck so far)\n",
        "Trying with clean dataset"
      ],
      "metadata": {
        "id": "I8Ii3-cYxGpC"
      }
    },
    {
      "cell_type": "code",
      "execution_count": null,
      "metadata": {
        "id": "Yyp6e1XPqohJ"
      },
      "outputs": [],
      "source": [
        "df_clean = pd.read_csv('/content/drive/MyDrive/Android_Malware_clean.csv', low_memory=False)"
      ]
    },
    {
      "cell_type": "code",
      "source": [
        "df = df_clean.copy()"
      ],
      "metadata": {
        "id": "AOX6gH5UvKhE"
      },
      "execution_count": null,
      "outputs": []
    },
    {
      "cell_type": "code",
      "execution_count": null,
      "metadata": {
        "colab": {
          "base_uri": "https://localhost:8080/"
        },
        "id": "yyyGhRFNHmOp",
        "outputId": "678fcfed-12d8-42ac-9ef6-1564ce2fa1ea"
      },
      "outputs": [
        {
          "output_type": "stream",
          "name": "stdout",
          "text": [
            "Positive Feature Coefficients:\n",
            "Flow Duration                  2.919065e-09\n",
            "Total Length of Fwd Packets    1.977520e-08\n",
            "Bwd Packet Length Max          3.128797e-05\n",
            "Flow IAT Std                   1.931838e-08\n",
            "Flow IAT Min                   1.723249e-08\n",
            "Fwd IAT Std                    7.071373e-10\n",
            "Fwd IAT Max                    1.576225e-09\n",
            "Bwd IAT Max                    6.163550e-09\n",
            "Bwd IAT Min                    4.249310e-09\n",
            "Bwd Header Length              1.418344e-11\n",
            "Fwd Packets/s                  2.202660e-08\n",
            "Bwd Packets/s                  1.709168e-06\n",
            "Max Packet Length              3.678600e-05\n",
            "Packet Length Variance         2.950738e-07\n",
            "Subflow Fwd Bytes              1.425019e-07\n",
            "Init_Win_bytes_backward        2.617738e-07\n",
            "Active Std                     5.714792e-08\n",
            "Active Min                     2.304698e-08\n",
            "Idle Mean                      1.114802e-09\n",
            "Idle Std                       6.830086e-09\n",
            "Idle Min                       3.697350e-09\n",
            "dtype: float64\n"
          ]
        },
        {
          "output_type": "stream",
          "name": "stderr",
          "text": [
            "Objective did not converge. You might want to increase the number of iterations, check the scale of the features or consider increasing regularisation. Duality gap: 1.138e+05, tolerance: 2.299e+01\n"
          ]
        }
      ],
      "source": [
        "import pandas as pd\n",
        "from sklearn.model_selection import train_test_split\n",
        "from sklearn.preprocessing import StandardScaler\n",
        "from sklearn.linear_model import Lasso\n",
        "\n",
        "# Assume X_train, X_test, y_train are already defined\n",
        "\n",
        "# # Standardize the features\n",
        "# scaler = StandardScaler()\n",
        "# X_train_scaled = scaler.fit_transform(X_train)\n",
        "# X_test_scaled = scaler.transform(X_test)\n",
        "\n",
        "# Fit Lasso model\n",
        "alpha = 0.9\n",
        "lasso_model = Lasso(alpha=alpha)\n",
        "lasso_model.fit(X_train, y_train)\n",
        "\n",
        "# Ensure X_train and X_test have the same columns\n",
        "common_columns = X_train.columns.intersection(X_test.columns)\n",
        "X_train = X_train[common_columns]\n",
        "X_test = X_test[common_columns]\n",
        "\n",
        "# Get feature coefficients\n",
        "coefficients = pd.Series(lasso_model.coef_, index=common_columns)\n",
        "\n",
        "# Display only coefficients with values greater than 0\n",
        "positive_coefficients = coefficients[coefficients > 0]\n",
        "print(\"Positive Feature Coefficients:\")\n",
        "print(positive_coefficients)"
      ]
    },
    {
      "cell_type": "code",
      "source": [
        "# Select only non-zero coefficients\n",
        "non_zero_coefficients = coefficients[coefficients != 0]\n",
        "\n",
        "# Extract features based on non-zero coefficients\n",
        "selected_features = non_zero_coefficients.index\n",
        "\n",
        "# Use selected features for training and testing sets\n",
        "X_train_selected = X_train[selected_features]\n",
        "X_test_selected = X_test[selected_features]\n",
        "\n",
        "# Train RandomForest model using the selected features\n",
        "random_forest_model = RandomForestClassifier(n_estimators=100, random_state=42)\n",
        "random_forest_model.fit(X_train_selected, y_train)\n",
        "\n",
        "# Evaluate the model\n",
        "accuracy = random_forest_model.score(X_test_selected, y_test)\n",
        "print(f\"RandomForest Model Accuracy: {accuracy}\")\n",
        "\n",
        "selected_features"
      ],
      "metadata": {
        "colab": {
          "base_uri": "https://localhost:8080/"
        },
        "id": "6TH_dA7BGXlN",
        "outputId": "b33dfeed-3e19-47ee-8a96-e7d6df571385"
      },
      "execution_count": null,
      "outputs": [
        {
          "output_type": "stream",
          "name": "stdout",
          "text": [
            "RandomForest Model Accuracy: 0.5145264152428942\n"
          ]
        }
      ]
    },
    {
      "cell_type": "code",
      "source": [
        "from sklearn.model_selection import train_test_split\n",
        "from sklearn.ensemble import RandomForestClassifier\n",
        "from sklearn.metrics import accuracy_score\n",
        "\n",
        "# Assuming 'df' is your DataFrame containing the features and target variable\n",
        "\n",
        "# Select features and target variable\n",
        "features = df[(['Flow Duration', 'Total Length of Fwd Packets',\n",
        "       'Total Length of Bwd Packets', 'Fwd Packet Length Min',\n",
        "       'Bwd Packet Length Max', 'Flow Bytes/s', 'Flow Packets/s',\n",
        "       'Flow IAT Mean', 'Flow IAT Std', 'Flow IAT Max', 'Flow IAT Min',\n",
        "       'Fwd IAT Total', 'Fwd IAT Mean', 'Fwd IAT Std', 'Fwd IAT Max',\n",
        "       'Fwd IAT Min', 'Bwd IAT Total', 'Bwd IAT Mean', 'Bwd IAT Std',\n",
        "       'Bwd IAT Max', 'Bwd IAT Min', 'Fwd Header Length', 'Bwd Header Length',\n",
        "       'Fwd Packets/s', 'Bwd Packets/s', 'Max Packet Length',\n",
        "       'Packet Length Variance', 'Subflow Fwd Bytes', 'Subflow Bwd Bytes',\n",
        "       'Init_Win_bytes_forward', 'Init_Win_bytes_backward',\n",
        "       'min_seg_size_forward', 'Active Mean', 'Active Std', 'Active Max',\n",
        "       'Active Min', 'Idle Mean', 'Idle Std', 'Idle Max', 'Idle Min'])]\n",
        "target = df['Label']\n",
        "\n",
        "# Reduce the dataset size to, for example, 10%\n",
        "small_features, _, small_target, _ = train_test_split(features, target, test_size=0.9, random_state=0)\n",
        "\n",
        "# Split the reduced dataset into training and testing sets\n",
        "X_train, X_test, y_train, y_test = train_test_split(small_features, small_target, test_size=0.2, random_state=0)\n",
        "\n",
        "# Initialize RandomForestClassifier with your chosen hyperparameters\n",
        "forest = RandomForestClassifier(max_depth=20, min_samples_leaf=1, min_samples_split=2, n_estimators=50, class_weight='balanced', random_state=0)\n",
        "\n",
        "# Fit the model on the training data\n",
        "forest.fit(X_train, y_train)\n",
        "\n",
        "# Make predictions on the test set\n",
        "predictions = forest.predict(X_test)\n",
        "\n",
        "# Evaluate the model\n",
        "accuracy = accuracy_score(y_test, predictions)\n",
        "print(\"Test set accuracy: {:.3f}\".format(accuracy))\n"
      ],
      "metadata": {
        "colab": {
          "base_uri": "https://localhost:8080/"
        },
        "id": "6RXDtK88P4b8",
        "outputId": "33fa110e-9b78-4027-9f31-fa3359271d84"
      },
      "execution_count": null,
      "outputs": [
        {
          "output_type": "stream",
          "name": "stdout",
          "text": [
            "Test set accuracy: 0.441\n"
          ]
        }
      ]
    },
    {
      "cell_type": "code",
      "source": [
        "from imblearn.over_sampling import SMOTE\n",
        "smote = SMOTE(random_state=42)\n",
        "X_resampled, y_resampled = smote.fit_resample(X_train, y_train)"
      ],
      "metadata": {
        "id": "RjwvWS9pxJqK"
      },
      "execution_count": null,
      "outputs": []
    },
    {
      "cell_type": "code",
      "source": [
        "from imblearn.over_sampling import RandomOverSampler\n",
        "ros = RandomOverSampler(random_state=42)\n",
        "X_resampled, y_resampled = ros.fit_resample(X_train, y_train)"
      ],
      "metadata": {
        "id": "SSntAY_Nv7a0"
      },
      "execution_count": null,
      "outputs": []
    },
    {
      "cell_type": "code",
      "source": [
        "from sklearn.model_selection import GridSearchCV\n",
        "\n",
        "param_grid = {\n",
        "    'n_estimators': [20, 50, 100],\n",
        "    'max_depth': [None, 10, 20],\n",
        "    'min_samples_split': [2, 5],\n",
        "    'min_samples_leaf': [1, 2]\n",
        "}\n",
        "\n",
        "grid_search = GridSearchCV(RandomForestClassifier(random_state=0), param_grid, cv=5, scoring='accuracy')\n",
        "grid_search.fit(X_resampled, y_resampled)\n",
        "\n",
        "best_forest = grid_search.best_estimator_\n",
        "\n",
        "# Print the results\n",
        "print(\"Grid Search Results:\")\n",
        "print(f\"Best Hyperparameters: {grid_search.best_params_}\")\n",
        "print(f\"Best Cross-validated Accuracy: {grid_search.best_score_:.4f}\")\n",
        "\n",
        "# Print the performance of the best model on the test set\n",
        "test_accuracy = grid_search.score(X_test, y_test)\n",
        "print(f\"Test Set Accuracy with Best Model: {test_accuracy:.4f}\")"
      ],
      "metadata": {
        "id": "tN8TgNmv5fV3",
        "colab": {
          "base_uri": "https://localhost:8080/"
        },
        "outputId": "d6795968-61e6-4da5-ff57-c9baf0d316bf"
      },
      "execution_count": null,
      "outputs": [
        {
          "output_type": "stream",
          "name": "stdout",
          "text": [
            "Grid Search Results:\n",
            "Best Hyperparameters: {'max_depth': None, 'min_samples_leaf': 1, 'min_samples_split': 2, 'n_estimators': 50}\n",
            "Best Cross-validated Accuracy: 0.7540\n",
            "Test Set Accuracy with Best Model: 0.4229\n"
          ]
        }
      ]
    },
    {
      "cell_type": "code",
      "source": [
        "from sklearn.ensemble import RandomForestClassifier\n",
        "forest = RandomForestClassifier(max_depth=20, min_samples_leaf=1, min_samples_split=2, n_estimators=50, random_state=0)\n",
        "forest.fit(X_train, y_train)\n",
        "\n",
        "print(\"Training set accuracy: {:.3f}\".format(forest.score(X_resampled, y_resampled)))\n",
        "print(\"Test set accuracy: {:.3f}\".format(forest.score(X_test, y_test)))"
      ],
      "metadata": {
        "colab": {
          "base_uri": "https://localhost:8080/"
        },
        "id": "mGS37qfq3cyZ",
        "outputId": "73b0bc88-836d-477c-b19d-23f5648da541"
      },
      "execution_count": null,
      "outputs": [
        {
          "output_type": "stream",
          "name": "stdout",
          "text": [
            "Training set accuracy: 0.811\n",
            "Test set accuracy: 0.451\n"
          ]
        }
      ]
    },
    {
      "cell_type": "code",
      "source": [
        "from sklearn.ensemble import RandomForestClassifier\n",
        "forest = RandomForestClassifier(max_depth=20, min_samples_leaf=1, min_samples_split=2, n_estimators=50, class_weight='balanced', random_state=0)\n",
        "forest.fit(X_train, y_train)\n",
        "\n",
        "print(\"Training set accuracy: {:.3f}\".format(forest.score(X_train, y_train)))\n",
        "print(\"Test set accuracy: {:.3f}\".format(forest.score(X_test, y_test)))"
      ],
      "metadata": {
        "colab": {
          "base_uri": "https://localhost:8080/"
        },
        "id": "__GqpQBkvBYo",
        "outputId": "c1dc09fb-0abf-4e04-d424-a35dfb762d82"
      },
      "execution_count": null,
      "outputs": [
        {
          "output_type": "stream",
          "name": "stdout",
          "text": [
            "Training set accuracy: 0.950\n",
            "Test set accuracy: 0.441\n"
          ]
        }
      ]
    },
    {
      "cell_type": "code",
      "source": [],
      "metadata": {
        "id": "B6MPuOXfp58t"
      },
      "execution_count": null,
      "outputs": []
    }
  ],
  "metadata": {
    "colab": {
      "provenance": [],
      "mount_file_id": "1oqEBygO7qwbubikYgnF2LeqsEz-hYw85",
      "authorship_tag": "ABX9TyPSFBop02ziDm1EOj5Ni6qD",
      "include_colab_link": true
    },
    "kernelspec": {
      "display_name": "Python 3",
      "name": "python3"
    },
    "language_info": {
      "name": "python"
    }
  },
  "nbformat": 4,
  "nbformat_minor": 0
}