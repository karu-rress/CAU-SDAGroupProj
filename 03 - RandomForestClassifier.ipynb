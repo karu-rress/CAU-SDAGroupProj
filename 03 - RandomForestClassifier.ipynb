{
  "cells": [
    {
      "cell_type": "markdown",
      "metadata": {
        "id": "view-in-github",
        "colab_type": "text"
      },
      "source": [
        "<a href=\"https://colab.research.google.com/github/karu-rress/SDAGroupProj/blob/main/03%20-%20RandomForestClassifier.ipynb\" target=\"_parent\"><img src=\"https://colab.research.google.com/assets/colab-badge.svg\" alt=\"Open In Colab\"/></a>"
      ]
    },
    {
      "cell_type": "code",
      "execution_count": null,
      "metadata": {
        "colab": {
          "base_uri": "https://localhost:8080/"
        },
        "id": "co_j5lkps2Q3",
        "outputId": "fc939593-0f52-4138-e967-2dc68d1d30fa"
      },
      "outputs": [
        {
          "output_type": "stream",
          "name": "stdout",
          "text": [
            "Collecting shap\n",
            "  Downloading shap-0.43.0-cp310-cp310-manylinux_2_12_x86_64.manylinux2010_x86_64.manylinux_2_17_x86_64.manylinux2014_x86_64.whl (532 kB)\n",
            "\u001b[?25l     \u001b[90m━━━━━━━━━━━━━━━━━━━━━━━━━━━━━━━━━━━━━━━━\u001b[0m \u001b[32m0.0/532.9 kB\u001b[0m \u001b[31m?\u001b[0m eta \u001b[36m-:--:--\u001b[0m\r\u001b[2K     \u001b[91m━━━━\u001b[0m\u001b[91m╸\u001b[0m\u001b[90m━━━━━━━━━━━━━━━━━━━━━━━━━━━━━━━━━━━\u001b[0m \u001b[32m61.4/532.9 kB\u001b[0m \u001b[31m2.1 MB/s\u001b[0m eta \u001b[36m0:00:01\u001b[0m\r\u001b[2K     \u001b[91m━━━━━━━━━━━━━━━━━━━━━━━━━━━━━━━━━\u001b[0m\u001b[91m╸\u001b[0m\u001b[90m━━━━━━\u001b[0m \u001b[32m450.6/532.9 kB\u001b[0m \u001b[31m7.3 MB/s\u001b[0m eta \u001b[36m0:00:01\u001b[0m\r\u001b[2K     \u001b[90m━━━━━━━━━━━━━━━━━━━━━━━━━━━━━━━━━━━━━━━━\u001b[0m \u001b[32m532.9/532.9 kB\u001b[0m \u001b[31m7.0 MB/s\u001b[0m eta \u001b[36m0:00:00\u001b[0m\n",
            "\u001b[?25hRequirement already satisfied: numpy in /usr/local/lib/python3.10/dist-packages (from shap) (1.23.5)\n",
            "Requirement already satisfied: scipy in /usr/local/lib/python3.10/dist-packages (from shap) (1.11.4)\n",
            "Requirement already satisfied: scikit-learn in /usr/local/lib/python3.10/dist-packages (from shap) (1.2.2)\n",
            "Requirement already satisfied: pandas in /usr/local/lib/python3.10/dist-packages (from shap) (1.5.3)\n",
            "Requirement already satisfied: tqdm>=4.27.0 in /usr/local/lib/python3.10/dist-packages (from shap) (4.66.1)\n",
            "Requirement already satisfied: packaging>20.9 in /usr/local/lib/python3.10/dist-packages (from shap) (23.2)\n",
            "Collecting slicer==0.0.7 (from shap)\n",
            "  Downloading slicer-0.0.7-py3-none-any.whl (14 kB)\n",
            "Requirement already satisfied: numba in /usr/local/lib/python3.10/dist-packages (from shap) (0.58.1)\n",
            "Requirement already satisfied: cloudpickle in /usr/local/lib/python3.10/dist-packages (from shap) (2.2.1)\n",
            "Requirement already satisfied: llvmlite<0.42,>=0.41.0dev0 in /usr/local/lib/python3.10/dist-packages (from numba->shap) (0.41.1)\n",
            "Requirement already satisfied: python-dateutil>=2.8.1 in /usr/local/lib/python3.10/dist-packages (from pandas->shap) (2.8.2)\n",
            "Requirement already satisfied: pytz>=2020.1 in /usr/local/lib/python3.10/dist-packages (from pandas->shap) (2023.3.post1)\n",
            "Requirement already satisfied: joblib>=1.1.1 in /usr/local/lib/python3.10/dist-packages (from scikit-learn->shap) (1.3.2)\n",
            "Requirement already satisfied: threadpoolctl>=2.0.0 in /usr/local/lib/python3.10/dist-packages (from scikit-learn->shap) (3.2.0)\n",
            "Requirement already satisfied: six>=1.5 in /usr/local/lib/python3.10/dist-packages (from python-dateutil>=2.8.1->pandas->shap) (1.16.0)\n",
            "Installing collected packages: slicer, shap\n",
            "Successfully installed shap-0.43.0 slicer-0.0.7\n"
          ]
        }
      ],
      "source": [
        "!pip install shap"
      ]
    },
    {
      "cell_type": "code",
      "execution_count": null,
      "metadata": {
        "id": "fle5rBM1oD3F"
      },
      "outputs": [],
      "source": [
        "import numpy as np\n",
        "import pandas as pd\n",
        "from sklearn.model_selection import train_test_split, GridSearchCV\n",
        "from sklearn.preprocessing import StandardScaler\n",
        "from imblearn.over_sampling import SMOTE\n",
        "from sklearn.ensemble import RandomForestClassifier\n",
        "from sklearn.linear_model import LogisticRegression\n",
        "from sklearn.tree import DecisionTreeClassifier  # Import DecisionTreeClassifier\n",
        "from sklearn.metrics import classification_report, confusion_matrix\n",
        "from sklearn.decomposition import PCA\n",
        "#import shap\n",
        "from sklearn.pipeline import Pipeline"
      ]
    },
    {
      "cell_type": "code",
      "source": [
        "df_origin = pd.read_csv('/content/drive/MyDrive/Android_Malware.csv', low_memory=False)"
      ],
      "metadata": {
        "id": "MIOLE9Gut0sF"
      },
      "execution_count": null,
      "outputs": []
    },
    {
      "cell_type": "code",
      "execution_count": null,
      "metadata": {
        "id": "FdcDExFiqy6P"
      },
      "outputs": [],
      "source": [
        "df = df_origin.copy()"
      ]
    },
    {
      "cell_type": "code",
      "source": [
        "# Remove leading whitespaces from column names\n",
        "df.columns = df.columns.str.strip()"
      ],
      "metadata": {
        "id": "mzClGPgzxzLP"
      },
      "execution_count": null,
      "outputs": []
    },
    {
      "cell_type": "code",
      "execution_count": null,
      "metadata": {
        "id": "noeVMmpZq_kp"
      },
      "outputs": [],
      "source": [
        "# Define the pairs of columns for differences\n",
        "packet_pairs = [('Total Fwd Packets', 'Total Backward Packets'),\n",
        "                ('Total Length of Fwd Packets', 'Total Length of Bwd Packets'),\n",
        "                ('Fwd IAT Total', 'Bwd IAT Total'),\n",
        "                ('Fwd PSH Flags', 'Bwd PSH Flags'),\n",
        "                ('Fwd URG Flags', 'Bwd URG Flags'),\n",
        "                ('Fwd Header Length', 'Bwd Header Length'),\n",
        "                ('Fwd Packets/s', 'Bwd Packets/s'),\n",
        "                ('Avg Fwd Segment Size', 'Avg Bwd Segment Size'),\n",
        "                ('Fwd Avg Bytes/Bulk', 'Bwd Avg Bytes/Bulk'),\n",
        "                ('Fwd Avg Packets/Bulk', 'Bwd Avg Packets/Bulk'),\n",
        "                ('Fwd Avg Bulk Rate', 'Bwd Avg Bulk Rate'),\n",
        "                ('Subflow Fwd Packets', 'Subflow Bwd Packets'),\n",
        "                ('Subflow Fwd Bytes', 'Subflow Bwd Bytes'),\n",
        "                ('Init_Win_bytes_forward', 'Init_Win_bytes_backward')]\n",
        "\n",
        "# Convert columns to numeric before calculating differences\n",
        "df = df.apply(pd.to_numeric, errors='coerce')\n",
        "\n",
        "# Calculate differences for each pair and create separate columns\n",
        "for pair in packet_pairs:\n",
        "    col_name_diff = f'{pair[0]} - {pair[1]}'\n",
        "    df[col_name_diff] = df[pair[0]] - df[pair[1]]"
      ]
    },
    {
      "cell_type": "code",
      "execution_count": null,
      "metadata": {
        "id": "21QxfEBurFc9"
      },
      "outputs": [],
      "source": [
        "# List of all columns to drop\n",
        "columns_to_drop = [\n",
        "    'Unnamed: 0', 'Flow ID', 'Source IP', 'Source Port', 'Destination IP', 'Destination Port',\n",
        "    'Protocol', 'Timestamp', 'Total Fwd Packets', 'Total Backward Packets',\n",
        "    'Total Length of Fwd Packets', 'Total Length of Bwd Packets',\n",
        "    'Fwd Packet Length Max', 'Fwd Packet Length Min', 'Fwd Packet Length Std',\n",
        "    'Bwd Packet Length Max', 'Bwd Packet Length Min', 'Bwd Packet Length Std',\n",
        "    'Flow IAT Std', 'Flow IAT Max', 'Flow IAT Min',\n",
        "    'Fwd IAT Total', 'Fwd IAT Std', 'Fwd IAT Max', 'Fwd IAT Min',\n",
        "    'Bwd IAT Total', 'Bwd IAT Std', 'Bwd IAT Max', 'Bwd IAT Min',\n",
        "    'Fwd PSH Flags', 'Bwd PSH Flags', 'Fwd URG Flags', 'Bwd URG Flags',\n",
        "    'Fwd Header Length', 'Bwd Header Length', 'Fwd Packets/s', 'Bwd Packets/s',\n",
        "    'Min Packet Length', 'Max Packet Length', 'Packet Length Std', 'Packet Length Variance',\n",
        "    'ECE Flag Count', 'Avg Fwd Segment Size', 'Avg Bwd Segment Size',\n",
        "    'Fwd Header Length.1', 'Fwd Avg Bytes/Bulk', 'Fwd Avg Packets/Bulk', 'Fwd Avg Bulk Rate',\n",
        "    'Bwd Avg Bytes/Bulk', 'Bwd Avg Packets/Bulk', 'Bwd Avg Bulk Rate',\n",
        "    'Subflow Fwd Packets', 'Subflow Fwd Bytes', 'Subflow Bwd Packets', 'Subflow Bwd Bytes',\n",
        "    'Init_Win_bytes_forward', 'Init_Win_bytes_backward',\n",
        "    'Active Std', 'Active Max', 'Active Min', 'Idle Std', 'Idle Max', 'Idle Min'\n",
        "]\n",
        "# Drop the specified columns\n",
        "df = df.drop(columns=columns_to_drop, errors='ignore')"
      ]
    },
    {
      "cell_type": "code",
      "execution_count": null,
      "metadata": {
        "id": "0KKfTjOCrNuz"
      },
      "outputs": [],
      "source": [
        "df['Label'] = df_origin['Label']"
      ]
    },
    {
      "cell_type": "code",
      "source": [
        "df = df.dropna()"
      ],
      "metadata": {
        "id": "fQy9OMi5x195"
      },
      "execution_count": null,
      "outputs": []
    },
    {
      "cell_type": "code",
      "execution_count": null,
      "metadata": {
        "id": "AAc_f2y6H7sq"
      },
      "outputs": [],
      "source": [
        "def type_replace(value):\n",
        "    new_value = None  # Initialize new_value\n",
        "    if value == 'Android_Adware':\n",
        "        new_value = 1\n",
        "    elif value == 'Android_Scareware':\n",
        "        new_value = 2\n",
        "    elif value == 'Android_SMS_Malware':\n",
        "        new_value = 3\n",
        "    elif value == 'Benign':\n",
        "      new_value = 4\n",
        "    return new_value\n",
        "\n",
        "df['Label'] = df['Label'].apply(type_replace)\n"
      ]
    },
    {
      "cell_type": "code",
      "source": [
        "features = df.drop('Label', axis=1)  # Features\n",
        "target = df['Label']"
      ],
      "metadata": {
        "id": "aL-zBtG2-_t4"
      },
      "execution_count": null,
      "outputs": []
    },
    {
      "cell_type": "code",
      "execution_count": null,
      "metadata": {
        "id": "uVLlfqX9sUzT"
      },
      "outputs": [],
      "source": [
        "X_train, X_test, y_train, y_test = train_test_split(features, target, random_state=0)\n"
      ]
    },
    {
      "cell_type": "markdown",
      "metadata": {
        "id": "zaXgI8rSH3SD"
      },
      "source": [
        "### Lasso Regression to determine features"
      ]
    },
    {
      "cell_type": "code",
      "source": [
        "import pandas as pd\n",
        "from sklearn.model_selection import train_test_split\n",
        "from sklearn.preprocessing import StandardScaler\n",
        "from sklearn.linear_model import Lasso\n",
        "\n",
        "# Assume X_train, X_test, y_train are already defined\n",
        "\n",
        "# # Standardize the features\n",
        "# scaler = StandardScaler()\n",
        "# X_train_scaled = scaler.fit_transform(X_train)\n",
        "# X_test_scaled = scaler.transform(X_test)\n",
        "\n",
        "# Fit Lasso model\n",
        "alpha = 0.9\n",
        "lasso_model = Lasso(alpha=alpha)\n",
        "lasso_model.fit(X_train, y_train)\n",
        "\n",
        "# Ensure X_train and X_test have the same columns\n",
        "common_columns = X_train.columns.intersection(X_test.columns)\n",
        "X_train = X_train[common_columns]\n",
        "X_test = X_test[common_columns]\n",
        "\n",
        "# Get feature coefficients\n",
        "coefficients = pd.Series(lasso_model.coef_, index=common_columns)\n"
      ],
      "metadata": {
        "id": "EELlzPE9w0Da"
      },
      "execution_count": null,
      "outputs": []
    },
    {
      "cell_type": "code",
      "source": [
        "# Select only non-zero coefficients\n",
        "non_zero_coefficients = coefficients[coefficients != 0]\n",
        "\n",
        "# Extract features based on non-zero coefficients\n",
        "selected_features = non_zero_coefficients.index\n",
        "\n",
        "# Use selected features for training and testing sets\n",
        "X_train_selected = X_train[selected_features]\n",
        "X_test_selected = X_test[selected_features]\n",
        "\n",
        "# Train RandomForest model using the selected features\n",
        "random_forest_model = RandomForestClassifier(n_estimators=100, random_state=42)\n",
        "random_forest_model.fit(X_train_selected, y_train)\n",
        "\n",
        "# Evaluate the model\n",
        "accuracy = random_forest_model.score(X_test_selected, y_test)\n",
        "print(f\"RandomForest Model Accuracy: {accuracy}\")"
      ],
      "metadata": {
        "colab": {
          "base_uri": "https://localhost:8080/"
        },
        "id": "OdPvWYUCxEt8",
        "outputId": "bee02ecc-deb9-425e-c387-f185047e5a90"
      },
      "execution_count": null,
      "outputs": [
        {
          "output_type": "stream",
          "name": "stdout",
          "text": [
            "RandomForest Model Accuracy: 0.504223514458929\n"
          ]
        }
      ]
    },
    {
      "cell_type": "code",
      "source": [
        "selected_features"
      ],
      "metadata": {
        "colab": {
          "base_uri": "https://localhost:8080/"
        },
        "id": "H4cIZyi-HaQ_",
        "outputId": "d50990ae-69b6-4c10-d7c4-1f453c50804d"
      },
      "execution_count": null,
      "outputs": [
        {
          "output_type": "execute_result",
          "data": {
            "text/plain": [
              "Index(['Flow Duration', 'Bwd Packet Length Mean', 'Flow Bytes/s',\n",
              "       'Flow Packets/s', 'Flow IAT Mean', 'Fwd IAT Mean', 'Bwd IAT Mean',\n",
              "       'Packet Length Mean', 'min_seg_size_forward', 'Active Mean',\n",
              "       'Idle Mean',\n",
              "       'Total Length of Fwd Packets - Total Length of Bwd Packets',\n",
              "       'Fwd IAT Total - Bwd IAT Total',\n",
              "       'Fwd Header Length - Bwd Header Length',\n",
              "       'Fwd Packets/s - Bwd Packets/s',\n",
              "       'Init_Win_bytes_forward - Init_Win_bytes_backward'],\n",
              "      dtype='object')"
            ]
          },
          "metadata": {},
          "execution_count": 111
        }
      ]
    },
    {
      "cell_type": "markdown",
      "metadata": {
        "id": "rWKrP2D1sehr"
      },
      "source": [
        "## Random Forest (Grid Search Worked!!)\n",
        "\n",
        "Balancing techniques havent worked thus far with these features."
      ]
    },
    {
      "cell_type": "code",
      "execution_count": null,
      "metadata": {
        "id": "xgkldcaGsM_B"
      },
      "outputs": [],
      "source": [
        "features = df[['Packet Length Mean', 'Bwd Packet Length Mean', 'Init_Win_bytes_forward - Init_Win_bytes_backward', 'Fwd Packets/s - Bwd Packets/s',\n",
        "               'Flow Packets/s', 'Total Length of Fwd Packets - Total Length of Bwd Packets', 'Active Mean',\n",
        "               'Flow Bytes/s', 'Fwd IAT Mean', 'Bwd IAT Mean', 'Flow IAT Mean', 'Flow Duration', 'min_seg_size_forward',\n",
        "               'Idle Mean', 'Fwd IAT Total - Bwd IAT Total', 'Fwd Header Length - Bwd Header Length']]\n",
        "target = df['Label']"
      ]
    },
    {
      "cell_type": "code",
      "source": [
        "X_train, X_test, y_train, y_test = train_test_split(features, target, random_state=0)"
      ],
      "metadata": {
        "id": "5CBVzjpGuXN0"
      },
      "execution_count": null,
      "outputs": []
    },
    {
      "cell_type": "code",
      "execution_count": null,
      "metadata": {
        "id": "pyiXX_rXuaif"
      },
      "outputs": [],
      "source": [
        "from sklearn.model_selection import GridSearchCV\n",
        "\n",
        "param_grid = {\n",
        "    'n_estimators': [10, 20, 50],\n",
        "    'max_depth': [None, 10, 20],\n",
        "    'min_samples_split': [2, 5],\n",
        "    'min_samples_leaf': [1, 2]\n",
        "}\n",
        "\n",
        "grid_search = GridSearchCV(RandomForestClassifier(random_state=0), param_grid, cv=5, scoring='accuracy')\n",
        "grid_search.fit(X_train, y_train)\n",
        "\n",
        "best_forest = grid_search.best_estimator_\n"
      ]
    },
    {
      "cell_type": "code",
      "source": [
        "# Print the results\n",
        "print(\"Grid Search Results:\")\n",
        "print(f\"Best Hyperparameters: {grid_search.best_params_}\")\n",
        "print(f\"Best Cross-validated Accuracy: {grid_search.best_score_:.4f}\")\n",
        "\n",
        "# Print the performance of the best model on the test set\n",
        "test_accuracy = grid_search.score(X_test, y_test)\n",
        "print(f\"Test Set Accuracy with Best Model: {test_accuracy:.4f}\")"
      ],
      "metadata": {
        "colab": {
          "base_uri": "https://localhost:8080/"
        },
        "id": "YdZRHmO6zlUT",
        "outputId": "a2f807e0-48ab-4d57-92d8-2795f822cd3f"
      },
      "execution_count": null,
      "outputs": [
        {
          "output_type": "stream",
          "name": "stdout",
          "text": [
            "Grid Search Results:\n",
            "Best Hyperparameters: {'max_depth': 20, 'min_samples_leaf': 2, 'min_samples_split': 2, 'n_estimators': 50}\n",
            "Best Cross-validated Accuracy: 0.5054\n",
            "Test Set Accuracy with Best Model: 0.5123\n"
          ]
        }
      ]
    },
    {
      "cell_type": "markdown",
      "source": [
        "## The model with best test results i cannot recreate.\n",
        "May have only been dumbed down to only predict adware and scareware?\n",
        "Features used for this model were consolidating by category then further consolidating by feature importance"
      ],
      "metadata": {
        "id": "05Up17gvevW8"
      }
    },
    {
      "cell_type": "code",
      "execution_count": null,
      "metadata": {
        "colab": {
          "base_uri": "https://localhost:8080/"
        },
        "id": "jtpvWQU5sd_M",
        "outputId": "aec0442a-5fba-48ac-9210-f91f4b814c59"
      },
      "outputs": [
        {
          "output_type": "stream",
          "name": "stdout",
          "text": [
            "Training set accuracy: 0.865\n",
            "Test set accuracy: 0.772\n"
          ]
        }
      ],
      "source": [
        "from sklearn.ensemble import RandomForestClassifier\n",
        "forest = RandomForestClassifier(max_depth=20, min_samples_leaf=1, min_samples_split=2, n_estimators=50, random_state=0)\n",
        "forest.fit(X_train, y_train)\n",
        "\n",
        "print(\"Training set accuracy: {:.3f}\".format(forest.score(X_train, y_train)))\n",
        "print(\"Test set accuracy: {:.3f}\".format(forest.score(X_test, y_test)))"
      ]
    },
    {
      "cell_type": "code",
      "source": [
        "from sklearn.metrics import classification_report\n",
        "\n",
        "# Predict on the test set\n",
        "y_pred_forest = forest.predict(X_test)\n",
        "\n",
        "print(classification_report(y_test, y_pred_forest))"
      ],
      "metadata": {
        "colab": {
          "base_uri": "https://localhost:8080/"
        },
        "id": "QBygxAaHYdoD",
        "outputId": "089efc36-43fd-4171-bb18-46881e8c38ac"
      },
      "execution_count": null,
      "outputs": [
        {
          "output_type": "stream",
          "name": "stdout",
          "text": [
            "                   precision    recall  f1-score   support\n",
            "\n",
            "   Android_Adware       0.78      0.95      0.86     36859\n",
            "Android_Scareware       0.66      0.25      0.36     12923\n",
            "\n",
            "         accuracy                           0.77     49782\n",
            "        macro avg       0.72      0.60      0.61     49782\n",
            "     weighted avg       0.75      0.77      0.73     49782\n",
            "\n"
          ]
        }
      ]
    },
    {
      "cell_type": "code",
      "source": [
        "from sklearn.metrics import confusion_matrix\n",
        "import seaborn as sns\n",
        "import matplotlib.pyplot as plt\n",
        "\n",
        "# Assuming forest is your RandomForestClassifier\n",
        "y_pred = forest.predict(X_test)\n",
        "\n",
        "# Get the confusion matrix\n",
        "cm = confusion_matrix(y_test, y_pred)\n",
        "\n",
        "# Plot the confusion matrix using seaborn\n",
        "plt.figure(figsize=(8, 6))\n",
        "sns.heatmap(cm, annot=True, fmt='d', cmap='Blues', xticklabels=['Android_Adware', 'Android_Scareware', 'Android_SMS_Malware', 'Benign'], yticklabels=['Android_Adware', 'Android_Scareware', 'Android_SMS_Malware', 'Benign'])\n",
        "plt.title('Confusion Matrix')\n",
        "plt.xlabel('Predicted Labels')\n",
        "plt.ylabel('True Labels')\n",
        "plt.show()\n"
      ],
      "metadata": {
        "colab": {
          "base_uri": "https://localhost:8080/",
          "height": 706
        },
        "id": "n82F1rRcYsga",
        "outputId": "5257234b-8add-4a51-e0df-daaacb4a3127"
      },
      "execution_count": null,
      "outputs": [
        {
          "output_type": "display_data",
          "data": {
            "text/plain": [
              "<Figure size 800x600 with 2 Axes>"
            ],
            "image/png": "[encoded data removed]"
          },
          "metadata": {}
        }
      ]
    },
    {
      "cell_type": "markdown",
      "source": [
        "## Other updated models"
      ],
      "metadata": {
        "id": "1bRSLw9Tf3ME"
      }
    },
    {
      "cell_type": "code",
      "source": [
        "from sklearn.ensemble import RandomForestClassifier\n",
        "forest = RandomForestClassifier(random_state=0)\n",
        "forest.fit(X_train, y_train)\n",
        "\n",
        "print(\"Training set accuracy: {:.3f}\".format(forest.score(X_train, y_train)))\n",
        "print(\"Test set accuracy: {:.3f}\".format(forest.score(X_test, y_test)))"
      ],
      "metadata": {
        "colab": {
          "base_uri": "https://localhost:8080/"
        },
        "id": "a46Ohm7mtwMf",
        "outputId": "522bfe40-6505-432e-9886-44744d6b43ae"
      },
      "execution_count": null,
      "outputs": [
        {
          "output_type": "stream",
          "name": "stdout",
          "text": [
            "Training set accuracy: 0.963\n",
            "Test set accuracy: 0.504\n"
          ]
        }
      ]
    },
    {
      "cell_type": "code",
      "source": [
        "from sklearn.ensemble import RandomForestClassifier\n",
        "forest = RandomForestClassifier(max_depth=20, min_samples_leaf=1, min_samples_split=2, n_estimators=50, random_state=0)\n",
        "forest.fit(X_train, y_train)\n",
        "\n",
        "print(\"Training set accuracy: {:.3f}\".format(forest.score(X_train, y_train)))\n",
        "print(\"Test set accuracy: {:.3f}\".format(forest.score(X_test, y_test)))"
      ],
      "metadata": {
        "colab": {
          "base_uri": "https://localhost:8080/"
        },
        "id": "20O-v_6GdnUw",
        "outputId": "76d9ce8a-5039-4620-d231-bcefbdcf1bc1"
      },
      "execution_count": null,
      "outputs": [
        {
          "output_type": "stream",
          "name": "stdout",
          "text": [
            "Training set accuracy: 0.737\n",
            "Test set accuracy: 0.512\n"
          ]
        }
      ]
    },
    {
      "cell_type": "code",
      "source": [
        "from sklearn.metrics import classification_report\n",
        "\n",
        "# Predict on the test set\n",
        "y_pred_forest = forest.predict(X_test)\n",
        "\n",
        "print(classification_report(y_test, y_pred_forest))"
      ],
      "metadata": {
        "colab": {
          "base_uri": "https://localhost:8080/"
        },
        "id": "rbE0-ORAd7PX",
        "outputId": "d0bbad67-723f-4f44-ac57-14cc9f766347"
      },
      "execution_count": null,
      "outputs": [
        {
          "output_type": "stream",
          "name": "stdout",
          "text": [
            "                     precision    recall  f1-score   support\n",
            "\n",
            "     Android_Adware       0.54      0.75      0.63     36983\n",
            "Android_SMS_Malware       0.53      0.26      0.35     16681\n",
            "  Android_Scareware       0.45      0.45      0.45     29277\n",
            "             Benign       0.42      0.04      0.07      5966\n",
            "\n",
            "           accuracy                           0.51     88907\n",
            "          macro avg       0.49      0.38      0.38     88907\n",
            "       weighted avg       0.50      0.51      0.48     88907\n",
            "\n"
          ]
        }
      ]
    },
    {
      "cell_type": "code",
      "source": [
        "from sklearn.metrics import confusion_matrix\n",
        "import seaborn as sns\n",
        "import matplotlib.pyplot as plt\n",
        "\n",
        "# Assuming forest is your RandomForestClassifier\n",
        "y_pred = forest.predict(X_test)\n",
        "\n",
        "# Get the confusion matrix\n",
        "cm = confusion_matrix(y_test, y_pred)\n",
        "\n",
        "# Plot the confusion matrix using seaborn\n",
        "plt.figure(figsize=(8, 6))\n",
        "sns.heatmap(cm, annot=True, fmt='d', cmap='Blues', xticklabels=['Android_Adware', 'Android_Scareware', 'Android_SMS_Malware', 'Benign'], yticklabels=['Android_Adware', 'Android_Scareware', 'Android_SMS_Malware', 'Benign'])\n",
        "plt.title('Confusion Matrix')\n",
        "plt.xlabel('Predicted Labels')\n",
        "plt.ylabel('True Labels')\n",
        "plt.show()\n"
      ],
      "metadata": {
        "colab": {
          "base_uri": "https://localhost:8080/",
          "height": 706
        },
        "id": "u5SYcL7Fd-m_",
        "outputId": "54e00582-bc15-463a-97a7-57bd01749ea6"
      },
      "execution_count": null,
      "outputs": [
        {
          "output_type": "display_data",
          "data": {
            "text/plain": [
              "<Figure size 800x600 with 2 Axes>"
            ],
            "image/png": "[encoded data removed]"
          },
          "metadata": {}
        }
      ]
    },
    {
      "cell_type": "markdown",
      "source": [
        "## Solve data imbalance (No luck so far)\n",
        "Trying with clean dataset"
      ],
      "metadata": {
        "id": "I8Ii3-cYxGpC"
      }
    },
    {
      "cell_type": "code",
      "execution_count": null,
      "metadata": {
        "id": "Yyp6e1XPqohJ"
      },
      "outputs": [],
      "source": [
        "df_clean = pd.read_csv('/content/drive/MyDrive/Android_Malware_clean.csv', low_memory=False)"
      ]
    },
    {
      "cell_type": "code",
      "source": [
        "df = df_clean.copy()"
      ],
      "metadata": {
        "id": "AOX6gH5UvKhE"
      },
      "execution_count": null,
      "outputs": []
    },
    {
      "cell_type": "code",
      "execution_count": null,
      "metadata": {
        "id": "yyyGhRFNHmOp"
      },
      "outputs": [],
      "source": [
        "import pandas as pd\n",
        "from sklearn.model_selection import train_test_split\n",
        "from sklearn.preprocessing import StandardScaler\n",
        "from sklearn.linear_model import Lasso\n",
        "\n",
        "# Assume X_train, X_test, y_train are already defined\n",
        "\n",
        "# # Standardize the features\n",
        "# scaler = StandardScaler()\n",
        "# X_train_scaled = scaler.fit_transform(X_train)\n",
        "# X_test_scaled = scaler.transform(X_test)\n",
        "\n",
        "# Fit Lasso model\n",
        "alpha = 0.9\n",
        "lasso_model = Lasso(alpha=alpha)\n",
        "lasso_model.fit(X_train, y_train)\n",
        "\n",
        "# Ensure X_train and X_test have the same columns\n",
        "common_columns = X_train.columns.intersection(X_test.columns)\n",
        "X_train = X_train[common_columns]\n",
        "X_test = X_test[common_columns]\n",
        "\n",
        "# Get feature coefficients\n",
        "coefficients = pd.Series(lasso_model.coef_, index=common_columns)\n",
        "\n",
        "# Display only coefficients with values greater than 0\n",
        "positive_coefficients = coefficients[coefficients > 0]\n",
        "print(\"Positive Feature Coefficients:\")\n",
        "print(positive_coefficients)"
      ]
    },
    {
      "cell_type": "code",
      "source": [
        "# Select only non-zero coefficients\n",
        "non_zero_coefficients = coefficients[coefficients != 0]\n",
        "\n",
        "# Extract features based on non-zero coefficients\n",
        "selected_features = non_zero_coefficients.index\n",
        "\n",
        "# Use selected features for training and testing sets\n",
        "X_train_selected = X_train[selected_features]\n",
        "X_test_selected = X_test[selected_features]\n",
        "\n",
        "# Train RandomForest model using the selected features\n",
        "random_forest_model = RandomForestClassifier(n_estimators=100, random_state=42)\n",
        "random_forest_model.fit(X_train_selected, y_train)\n",
        "\n",
        "# Evaluate the model\n",
        "accuracy = random_forest_model.score(X_test_selected, y_test)\n",
        "print(f\"RandomForest Model Accuracy: {accuracy}\")\n",
        "\n",
        "selected_features"
      ],
      "metadata": {
        "colab": {
          "base_uri": "https://localhost:8080/"
        },
        "id": "6TH_dA7BGXlN",
        "outputId": "b33dfeed-3e19-47ee-8a96-e7d6df571385"
      },
      "execution_count": null,
      "outputs": [
        {
          "output_type": "stream",
          "name": "stdout",
          "text": [
            "RandomForest Model Accuracy: 0.5145264152428942\n"
          ]
        }
      ]
    },
    {
      "cell_type": "markdown",
      "source": [
        "Features used from cleaned dataset determined by lasso regression"
      ],
      "metadata": {
        "id": "P3XzmDsqqpfR"
      }
    },
    {
      "cell_type": "code",
      "source": [
        "from sklearn.model_selection import train_test_split\n",
        "from sklearn.ensemble import RandomForestClassifier\n",
        "from sklearn.metrics import accuracy_score\n",
        "\n",
        "# Assuming 'df' is your DataFrame containing the features and target variable\n",
        "\n",
        "# Select features and target variable\n",
        "features = df[(['Flow Duration', 'Total Length of Fwd Packets',\n",
        "       'Total Length of Bwd Packets', 'Fwd Packet Length Min',\n",
        "       'Bwd Packet Length Max', 'Flow Bytes/s', 'Flow Packets/s',\n",
        "       'Flow IAT Mean', 'Flow IAT Std', 'Flow IAT Max', 'Flow IAT Min',\n",
        "       'Fwd IAT Total', 'Fwd IAT Mean', 'Fwd IAT Std', 'Fwd IAT Max',\n",
        "       'Fwd IAT Min', 'Bwd IAT Total', 'Bwd IAT Mean', 'Bwd IAT Std',\n",
        "       'Bwd IAT Max', 'Bwd IAT Min', 'Fwd Header Length', 'Bwd Header Length',\n",
        "       'Fwd Packets/s', 'Bwd Packets/s', 'Max Packet Length',\n",
        "       'Packet Length Variance', 'Subflow Fwd Bytes', 'Subflow Bwd Bytes',\n",
        "       'Init_Win_bytes_forward', 'Init_Win_bytes_backward',\n",
        "       'min_seg_size_forward', 'Active Mean', 'Active Std', 'Active Max',\n",
        "       'Active Min', 'Idle Mean', 'Idle Std', 'Idle Max', 'Idle Min'])]\n",
        "target = df['Label']\n",
        "\n",
        "# Reduce the dataset size to, for example, 10%\n",
        "# small_features, _, small_target, _ = train_test_split(features, target, test_size=0.9, random_state=0)\n",
        "\n",
        "# Split the reduced dataset into training and testing sets\n",
        "X_train, X_test, y_train, y_test = train_test_split(features, target, test_size=0.2, random_state=0)\n",
        "\n",
        "# Initialize RandomForestClassifier with your chosen hyperparameters\n",
        "forest = RandomForestClassifier(max_depth=20, min_samples_leaf=1, min_samples_split=2, n_estimators=50, class_weight='balanced', random_state=0)\n",
        "\n",
        "# Fit the model on the training data\n",
        "forest.fit(X_train, y_train)\n",
        "\n",
        "# Make predictions on the test set\n",
        "predictions = forest.predict(X_test)\n",
        "\n",
        "# Evaluate the model\n",
        "accuracy = accuracy_score(y_test, predictions)\n",
        "print(\"Training set accuracy: {:.3f}\".format(forest.score(X_train, y_train)))\n",
        "print(\"Test set accuracy: {:.3f}\".format(accuracy))\n"
      ],
      "metadata": {
        "colab": {
          "base_uri": "https://localhost:8080/"
        },
        "id": "6RXDtK88P4b8",
        "outputId": "4d910ac3-ec2e-4901-ff4a-264898e6f464"
      },
      "execution_count": null,
      "outputs": [
        {
          "output_type": "stream",
          "name": "stdout",
          "text": [
            "Training set accuracy: 0.791\n",
            "Test set accuracy: 0.480\n"
          ]
        }
      ]
    },
    {
      "cell_type": "markdown",
      "source": [
        "Features resampled using SMOTE"
      ],
      "metadata": {
        "id": "vsg4XMCCqzcW"
      }
    },
    {
      "cell_type": "code",
      "source": [
        "from imblearn.over_sampling import SMOTE\n",
        "smote = SMOTE(random_state=42)\n",
        "X_resampled, y_resampled = smote.fit_resample(X_train, y_train)"
      ],
      "metadata": {
        "id": "RjwvWS9pxJqK"
      },
      "execution_count": null,
      "outputs": []
    },
    {
      "cell_type": "code",
      "source": [
        "from sklearn.model_selection import GridSearchCV\n",
        "\n",
        "param_grid = {\n",
        "    'n_estimators': [20, 50, 100],\n",
        "    'max_depth': [None, 10, 20],\n",
        "    'min_samples_split': [2, 5],\n",
        "    'min_samples_leaf': [1, 2]\n",
        "}\n",
        "\n",
        "grid_search = GridSearchCV(RandomForestClassifier(random_state=0), param_grid, cv=5, scoring='accuracy')\n",
        "grid_search.fit(X_resampled, y_resampled)\n",
        "\n",
        "best_forest = grid_search.best_estimator_\n",
        "\n",
        "# Print the results\n",
        "print(\"Grid Search Results:\")\n",
        "print(f\"Best Hyperparameters: {grid_search.best_params_}\")\n",
        "print(f\"Best Cross-validated Accuracy: {grid_search.best_score_:.4f}\")\n",
        "\n",
        "# Print the performance of the best model on the test set\n",
        "test_accuracy = grid_search.score(X_test, y_test)\n",
        "print(f\"Test Set Accuracy with Best Model: {test_accuracy:.4f}\")"
      ],
      "metadata": {
        "id": "tN8TgNmv5fV3",
        "colab": {
          "base_uri": "https://localhost:8080/"
        },
        "outputId": "d6795968-61e6-4da5-ff57-c9baf0d316bf"
      },
      "execution_count": null,
      "outputs": [
        {
          "output_type": "stream",
          "name": "stdout",
          "text": [
            "Grid Search Results:\n",
            "Best Hyperparameters: {'max_depth': None, 'min_samples_leaf': 1, 'min_samples_split': 2, 'n_estimators': 50}\n",
            "Best Cross-validated Accuracy: 0.7540\n",
            "Test Set Accuracy with Best Model: 0.4229\n"
          ]
        }
      ]
    },
    {
      "cell_type": "code",
      "source": [
        "from sklearn.ensemble import RandomForestClassifier\n",
        "forest = RandomForestClassifier(max_depth=20, min_samples_leaf=1, min_samples_split=2, n_estimators=50, random_state=0)\n",
        "forest.fit(X_train, y_train)\n",
        "\n",
        "print(\"Training set accuracy: {:.3f}\".format(forest.score(X_resampled, y_resampled)))\n",
        "print(\"Test set accuracy: {:.3f}\".format(forest.score(X_test, y_test)))"
      ],
      "metadata": {
        "colab": {
          "base_uri": "https://localhost:8080/"
        },
        "id": "mGS37qfq3cyZ",
        "outputId": "73b0bc88-836d-477c-b19d-23f5648da541"
      },
      "execution_count": null,
      "outputs": [
        {
          "output_type": "stream",
          "name": "stdout",
          "text": [
            "Training set accuracy: 0.811\n",
            "Test set accuracy: 0.451\n"
          ]
        }
      ]
    },
    {
      "cell_type": "markdown",
      "source": [
        "Features resampled using RandomOverSampler"
      ],
      "metadata": {
        "id": "_xKwp0WSq4_c"
      }
    },
    {
      "cell_type": "code",
      "source": [
        "from imblearn.over_sampling import RandomOverSampler\n",
        "ros = RandomOverSampler(random_state=42)\n",
        "X_resampled, y_resampled = ros.fit_resample(X_train, y_train)"
      ],
      "metadata": {
        "id": "SSntAY_Nv7a0"
      },
      "execution_count": null,
      "outputs": []
    },
    {
      "cell_type": "code",
      "source": [
        "from sklearn.ensemble import RandomForestClassifier\n",
        "forest = RandomForestClassifier(max_depth=20, min_samples_leaf=1, min_samples_split=2, n_estimators=50, class_weight='balanced', random_state=0)\n",
        "forest.fit(X_train, y_train)\n",
        "\n",
        "print(\"Training set accuracy: {:.3f}\".format(forest.score(X_train, y_train)))\n",
        "print(\"Test set accuracy: {:.3f}\".format(forest.score(X_test, y_test)))"
      ],
      "metadata": {
        "colab": {
          "base_uri": "https://localhost:8080/"
        },
        "id": "__GqpQBkvBYo",
        "outputId": "c1dc09fb-0abf-4e04-d424-a35dfb762d82"
      },
      "execution_count": null,
      "outputs": [
        {
          "output_type": "stream",
          "name": "stdout",
          "text": [
            "Training set accuracy: 0.950\n",
            "Test set accuracy: 0.441\n"
          ]
        }
      ]
    },
    {
      "cell_type": "markdown",
      "source": [
        "Testing a gridsearch and piplining SMOTE and random oversampler to find most optimal model. After 4hrs run time the best paramenters still produced low accuracy scores"
      ],
      "metadata": {
        "id": "B1lLTCfIrEFt"
      }
    },
    {
      "cell_type": "code",
      "source": [
        "from imblearn.pipeline import Pipeline\n",
        "from imblearn.over_sampling import RandomOverSampler, SMOTE\n",
        "from imblearn.under_sampling import RandomUnderSampler\n",
        "from sklearn.model_selection import GridSearchCV, train_test_split\n",
        "from sklearn.ensemble import RandomForestClassifier\n",
        "from sklearn.metrics import make_scorer, accuracy_score\n",
        "\n",
        "# Assuming 'df' is your DataFrame containing the features and target variable\n",
        "\n",
        "# Select features and target variable\n",
        "features = df[['Flow Duration', 'Total Length of Fwd Packets',\n",
        "               'Total Length of Bwd Packets', 'Fwd Packet Length Min',\n",
        "               'Bwd Packet Length Max', 'Flow Bytes/s', 'Flow Packets/s',\n",
        "               'Flow IAT Mean', 'Flow IAT Std', 'Flow IAT Max', 'Flow IAT Min',\n",
        "               'Fwd IAT Total', 'Fwd IAT Mean', 'Fwd IAT Std', 'Fwd IAT Max',\n",
        "               'Fwd IAT Min', 'Bwd IAT Total', 'Bwd IAT Mean', 'Bwd IAT Std',\n",
        "               'Bwd IAT Max', 'Bwd IAT Min', 'Fwd Header Length', 'Bwd Header Length',\n",
        "               'Fwd Packets/s', 'Bwd Packets/s', 'Max Packet Length',\n",
        "               'Packet Length Variance', 'Subflow Fwd Bytes', 'Subflow Bwd Bytes',\n",
        "               'Init_Win_bytes_forward', 'Init_Win_bytes_backward',\n",
        "               'min_seg_size_forward', 'Active Mean', 'Active Std', 'Active Max',\n",
        "               'Active Min', 'Idle Mean', 'Idle Std', 'Idle Max', 'Idle Min']]\n",
        "target = df['Label']\n",
        "\n",
        "# Reduce the dataset size to, for example, 10%\n",
        "small_features, _, small_target, _ = train_test_split(features, target, test_size=0.9, random_state=0)\n",
        "\n",
        "# Split the reduced dataset into training and testing sets\n",
        "X_train, X_test, y_train, y_test = train_test_split(small_features, small_target, test_size=0.2, random_state=0)\n",
        "\n",
        "# Create a pipeline with resampling methods and the RandomForestClassifier\n",
        "pipeline = Pipeline([\n",
        "    ('resampling', RandomOverSampler()),  # You can change this to other resampling methods\n",
        "    ('smote', SMOTE()),  # Add SMOTE to the pipeline\n",
        "    ('classifier', RandomForestClassifier(random_state=0))\n",
        "])\n",
        "\n",
        "# Define a parameter grid for grid search\n",
        "param_grid = {\n",
        "    'resampling': [RandomOverSampler(), RandomUnderSampler()],\n",
        "    'smote__k_neighbors': [3, 5, 7],  # Specify SMOTE parameters\n",
        "    'classifier__n_estimators': [50, 100, 200],\n",
        "    'classifier__max_depth': [10, 20, 30],\n",
        "    'classifier__min_samples_leaf': [1, 2, 4],\n",
        "    'classifier__min_samples_split': [2, 5, 10],\n",
        "}\n",
        "\n",
        "# Use accuracy as the scoring metric for grid search\n",
        "scorer = make_scorer(accuracy_score)\n",
        "\n",
        "# Perform grid search with cross-validation\n",
        "grid_search = GridSearchCV(pipeline, param_grid, scoring=scorer, cv=5)\n",
        "grid_search.fit(X_train, y_train)\n",
        "\n",
        "# Print the best parameters and the corresponding accuracy\n",
        "print(\"Best parameters found: \", grid_search.best_params_)\n",
        "print(\"Best accuracy on training set: {:.3f}\".format(grid_search.best_score_))\n",
        "\n",
        "# Evaluate the best model on the test set\n",
        "best_model = grid_search.best_estimator_\n",
        "test_predictions = best_model.predict(X_test)\n",
        "test_accuracy = accuracy_score(y_test, test_predictions)\n",
        "print(\"Test set accuracy using the best model: {:.3f}\".format(test_accuracy))\n"
      ],
      "metadata": {
        "id": "B6MPuOXfp58t",
        "colab": {
          "base_uri": "https://localhost:8080/"
        },
        "outputId": "00d210d4-6cc2-45a7-97a8-d2884ecc5293"
      },
      "execution_count": null,
      "outputs": [
        {
          "output_type": "stream",
          "name": "stdout",
          "text": [
            "Best parameters found:  {'classifier__max_depth': 30, 'classifier__min_samples_leaf': 1, 'classifier__min_samples_split': 2, 'classifier__n_estimators': 200, 'resampling': RandomOverSampler(), 'smote__k_neighbors': 5}\n",
            "Best accuracy on training set: 0.428\n",
            "Test set accuracy using the best model: 0.421\n"
          ]
        }
      ]
    },
    {
      "cell_type": "markdown",
      "source": [
        "Testing another grid search with the features double consolidated by category and feature importance. Still shows signs of overfitting and poor accuracy scores."
      ],
      "metadata": {
        "id": "oa_CHB0tsD2h"
      }
    },
    {
      "cell_type": "code",
      "source": [
        "from imblearn.pipeline import Pipeline\n",
        "from imblearn.over_sampling import RandomOverSampler, SMOTE\n",
        "from imblearn.under_sampling import RandomUnderSampler\n",
        "from sklearn.model_selection import GridSearchCV, train_test_split\n",
        "from sklearn.ensemble import RandomForestClassifier\n",
        "from sklearn.metrics import make_scorer, accuracy_score\n",
        "\n",
        "# Assuming 'df' is your DataFrame containing the features and target variable\n",
        "\n",
        "# Select features and target variable\n",
        "features = df[['Packet Length Mean', 'Bwd Packet Length Mean', 'Init_Win_bytes_forward - Init_Win_bytes_backward', 'Fwd Packets/s - Bwd Packets/s',\n",
        "               'Flow Packets/s', 'Total Length of Fwd Packets - Total Length of Bwd Packets', 'Active Mean',\n",
        "               'Flow Bytes/s', 'Fwd IAT Mean', 'Bwd IAT Mean', 'Flow IAT Mean', 'Flow Duration', 'min_seg_size_forward',\n",
        "               'Idle Mean', 'Fwd IAT Total - Bwd IAT Total', 'Fwd Header Length - Bwd Header Length']]\n",
        "target = df['Label']\n",
        "\n",
        "# Reduce the dataset size to, for example, 10%\n",
        "small_features, _, small_target, _ = train_test_split(features, target, test_size=0.9, random_state=0)\n",
        "\n",
        "# Split the reduced dataset into training and testing sets\n",
        "X_train, X_test, y_train, y_test = train_test_split(small_features, small_target, test_size=0.2, random_state=0)\n",
        "\n",
        "# Create a pipeline with resampling methods and the RandomForestClassifier\n",
        "pipeline = Pipeline([\n",
        "    ('resampling', RandomUnderSampler()),  # You can change this to other resampling methods\n",
        "    ('smote', SMOTE()),  # Add SMOTE to the pipeline\n",
        "    ('classifier', RandomForestClassifier(random_state=0))\n",
        "])\n",
        "\n",
        "# Define a parameter grid for grid search\n",
        "param_grid = {\n",
        "    'resampling': [RandomOverSampler(), RandomUnderSampler()],\n",
        "    'smote__k_neighbors': [3, 5, 7],  # Specify SMOTE parameters\n",
        "    'classifier__n_estimators': [50, 100, 200],\n",
        "    'classifier__max_depth': [10, 20, 30],\n",
        "    'classifier__min_samples_leaf': [1, 2, 4],\n",
        "    'classifier__min_samples_split': [2, 5, 10],\n",
        "}\n",
        "\n",
        "# Use accuracy as the scoring metric for grid search\n",
        "scorer = make_scorer(accuracy_score)\n",
        "\n",
        "# Perform grid search with cross-validation\n",
        "grid_search = GridSearchCV(pipeline, param_grid, scoring=scorer, cv=5)\n",
        "grid_search.fit(X_train, y_train)\n",
        "\n",
        "# Print the best parameters and the corresponding accuracy\n",
        "print(\"Best parameters found: \", grid_search.best_params_)\n",
        "print(\"Best accuracy on training set: {:.3f}\".format(grid_search.best_score_))\n",
        "\n",
        "# Evaluate the best model on the test set\n",
        "best_model = grid_search.best_estimator_\n",
        "test_predictions = best_model.predict(X_test)\n",
        "test_accuracy = accuracy_score(y_test, test_predictions)\n",
        "print(\"Test set accuracy using the best model: {:.3f}\".format(test_accuracy))\n"
      ],
      "metadata": {
        "colab": {
          "base_uri": "https://localhost:8080/"
        },
        "id": "LESpAi2W20CQ",
        "outputId": "65515fe1-ac7b-4fc6-fcb1-50ae470f1976"
      },
      "execution_count": null,
      "outputs": [
        {
          "output_type": "stream",
          "name": "stdout",
          "text": [
            "Best parameters found:  {'classifier__max_depth': 30, 'classifier__min_samples_leaf': 1, 'classifier__min_samples_split': 2, 'classifier__n_estimators': 200, 'resampling': RandomOverSampler(), 'smote__k_neighbors': 3}\n",
            "Best accuracy on training set: 0.419\n",
            "Test set accuracy using the best model: 0.417\n"
          ]
        }
      ]
    },
    {
      "cell_type": "markdown",
      "source": [
        "### Our best model?\n",
        "RandomForestClassifier(max_depth=30, min_samples_leaf=1, min_samples_split=2, n_estimators=200,  random_state=0)\n",
        "\n",
        "using features from clean data set determined using lasso regression"
      ],
      "metadata": {
        "id": "_17X_sk1swzH"
      }
    },
    {
      "cell_type": "code",
      "source": [
        "\n",
        "# Select features and target variable\n",
        "features = df[['Flow Duration', 'Total Length of Fwd Packets',\n",
        "               'Total Length of Bwd Packets', 'Fwd Packet Length Min',\n",
        "               'Bwd Packet Length Max', 'Flow Bytes/s', 'Flow Packets/s',\n",
        "               'Flow IAT Mean', 'Flow IAT Std', 'Flow IAT Max', 'Flow IAT Min',\n",
        "               'Fwd IAT Total', 'Fwd IAT Mean', 'Fwd IAT Std', 'Fwd IAT Max',\n",
        "               'Fwd IAT Min', 'Bwd IAT Total', 'Bwd IAT Mean', 'Bwd IAT Std',\n",
        "               'Bwd IAT Max', 'Bwd IAT Min', 'Fwd Header Length', 'Bwd Header Length',\n",
        "               'Fwd Packets/s', 'Bwd Packets/s', 'Max Packet Length',\n",
        "               'Packet Length Variance', 'Subflow Fwd Bytes', 'Subflow Bwd Bytes',\n",
        "               'Init_Win_bytes_forward', 'Init_Win_bytes_backward',\n",
        "               'min_seg_size_forward', 'Active Mean', 'Active Std', 'Active Max',\n",
        "               'Active Min', 'Idle Mean', 'Idle Std', 'Idle Max', 'Idle Min']]\n",
        "target = df['Label']\n",
        "\n",
        "\n",
        "# Split the reduced dataset into training and testing sets\n",
        "X_train, X_test, y_train, y_test = train_test_split(features, target, test_size=0.2, random_state=0)\n"
      ],
      "metadata": {
        "id": "LFGdfPo9RRcT"
      },
      "execution_count": null,
      "outputs": []
    },
    {
      "cell_type": "code",
      "source": [
        "from sklearn.ensemble import RandomForestClassifier\n",
        "forest = RandomForestClassifier(max_depth=30, min_samples_leaf=1, min_samples_split=2,\n",
        "                                n_estimators=200, class_weight='balanced', random_state=0)\n",
        "forest.fit(X_train, y_train)\n",
        "\n",
        "print(\"Training set accuracy: {:.3f}\".format(forest.score(X_resampled, y_resampled)))\n",
        "print(\"Test set accuracy: {:.3f}\".format(forest.score(X_test, y_test)))"
      ],
      "metadata": {
        "colab": {
          "base_uri": "https://localhost:8080/"
        },
        "id": "oVS-5SehRIOz",
        "outputId": "76661088-e27b-461e-9435-6496e8090e3b"
      },
      "execution_count": null,
      "outputs": [
        {
          "output_type": "stream",
          "name": "stdout",
          "text": [
            "Training set accuracy: 0.924\n",
            "Test set accuracy: 0.526\n"
          ]
        }
      ]
    },
    {
      "cell_type": "code",
      "source": [
        "from sklearn.metrics import classification_report\n",
        "\n",
        "# Predict on the test set\n",
        "y_pred_forest = forest.predict(X_test)\n",
        "\n",
        "print(classification_report(y_test, y_pred_forest))"
      ],
      "metadata": {
        "colab": {
          "base_uri": "https://localhost:8080/"
        },
        "id": "LfKfXnn2Q7eB",
        "outputId": "a4c2e19c-59ed-4386-89b0-da9bc1593d66"
      },
      "execution_count": null,
      "outputs": [
        {
          "output_type": "stream",
          "name": "stdout",
          "text": [
            "                     precision    recall  f1-score   support\n",
            "\n",
            "     Android_Adware       0.59      0.69      0.64     29665\n",
            "Android_SMS_Malware       0.47      0.35      0.40     13282\n",
            "  Android_Scareware       0.47      0.50      0.48     23422\n",
            "             Benign       0.34      0.11      0.17      4757\n",
            "\n",
            "           accuracy                           0.53     71126\n",
            "          macro avg       0.47      0.41      0.42     71126\n",
            "       weighted avg       0.51      0.53      0.51     71126\n",
            "\n"
          ]
        }
      ]
    },
    {
      "cell_type": "markdown",
      "source": [
        "Features double consolidated by categroy and feature importance. adding class weights='balanced' to the model made the accuracy worse. (From 0.51 - 0.47)"
      ],
      "metadata": {
        "id": "XC9QXDgX0uxw"
      }
    },
    {
      "cell_type": "code",
      "source": [
        "features = df[['Packet Length Mean', 'Bwd Packet Length Mean', 'Init_Win_bytes_forward - Init_Win_bytes_backward', 'Fwd Packets/s - Bwd Packets/s',\n",
        "               'Flow Packets/s', 'Total Length of Fwd Packets - Total Length of Bwd Packets', 'Active Mean',\n",
        "               'Flow Bytes/s', 'Fwd IAT Mean', 'Bwd IAT Mean', 'Flow IAT Mean', 'Flow Duration', 'min_seg_size_forward',\n",
        "               'Idle Mean', 'Fwd IAT Total - Bwd IAT Total', 'Fwd Header Length - Bwd Header Length']]\n",
        "target = df['Label']\n",
        "\n",
        "# Split the reduced dataset into training and testing sets\n",
        "X_train, X_test, y_train, y_test = train_test_split(features, target, test_size=0.2, random_state=0)\n",
        "\n",
        "from sklearn.ensemble import RandomForestClassifier\n",
        "forest = RandomForestClassifier(max_depth=20, min_samples_leaf=1, min_samples_split=2, n_estimators=50, random_state=0)\n",
        "forest.fit(X_train, y_train)\n",
        "\n",
        "print(\"Training set accuracy: {:.3f}\".format(forest.score(X_train, y_train)))\n",
        "print(\"Test set accuracy: {:.3f}\".format(forest.score(X_test, y_test)))"
      ],
      "metadata": {
        "colab": {
          "base_uri": "https://localhost:8080/"
        },
        "id": "I3SwVm6xtOw-",
        "outputId": "9846abfa-6411-4ffe-8737-be96f653ee4d"
      },
      "execution_count": null,
      "outputs": [
        {
          "output_type": "stream",
          "name": "stdout",
          "text": [
            "Training set accuracy: 0.770\n",
            "Test set accuracy: 0.467\n"
          ]
        }
      ]
    },
    {
      "cell_type": "code",
      "source": [],
      "metadata": {
        "id": "9sPGC1aXtZkz"
      },
      "execution_count": null,
      "outputs": []
    }
  ],
  "metadata": {
    "colab": {
      "provenance": [],
      "mount_file_id": "1oqEBygO7qwbubikYgnF2LeqsEz-hYw85",
      "authorship_tag": "ABX9TyNAId0Gu7SHVTCkg+s30XlK",
      "include_colab_link": true
    },
    "kernelspec": {
      "display_name": "Python 3",
      "name": "python3"
    },
    "language_info": {
      "name": "python"
    }
  },
  "nbformat": 4,
  "nbformat_minor": 0
}